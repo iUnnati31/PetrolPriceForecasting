{
 "cells": [
  {
   "cell_type": "markdown",
   "id": "W7G9brFaBKTd",
   "metadata": {
    "id": "W7G9brFaBKTd"
   },
   "source": [
    "# Petrol Price Forecasting"
   ]
  },
  {
   "cell_type": "markdown",
   "id": "QLg5ZonYCxh7",
   "metadata": {
    "id": "QLg5ZonYCxh7"
   },
   "source": [
    "**Importing Libraries**"
   ]
  },
  {
   "cell_type": "code",
   "execution_count": 1,
   "id": "e315f51b",
   "metadata": {
    "id": "e315f51b"
   },
   "outputs": [],
   "source": [
    "import pandas as pd\n",
    "import numpy as np\n",
    "from matplotlib import pyplot as plt\n",
    "%matplotlib inline\n",
    "import matplotlib \n",
    "import seaborn as sns\n",
    "sns.set()\n",
    "import warnings\n",
    "warnings.filterwarnings('ignore')"
   ]
  },
  {
   "cell_type": "code",
   "execution_count": 2,
   "id": "23e09038",
   "metadata": {
    "id": "23e09038"
   },
   "outputs": [
    {
     "data": {
      "text/html": [
       "<div>\n",
       "<style scoped>\n",
       "    .dataframe tbody tr th:only-of-type {\n",
       "        vertical-align: middle;\n",
       "    }\n",
       "\n",
       "    .dataframe tbody tr th {\n",
       "        vertical-align: top;\n",
       "    }\n",
       "\n",
       "    .dataframe thead th {\n",
       "        text-align: right;\n",
       "    }\n",
       "</style>\n",
       "<table border=\"1\" class=\"dataframe\">\n",
       "  <thead>\n",
       "    <tr style=\"text-align: right;\">\n",
       "      <th></th>\n",
       "      <th>Date</th>\n",
       "      <th>Petrol (USD)</th>\n",
       "    </tr>\n",
       "  </thead>\n",
       "  <tbody>\n",
       "    <tr>\n",
       "      <th>0</th>\n",
       "      <td>6/9/2003</td>\n",
       "      <td>74.59</td>\n",
       "    </tr>\n",
       "    <tr>\n",
       "      <th>1</th>\n",
       "      <td>6/16/2003</td>\n",
       "      <td>74.47</td>\n",
       "    </tr>\n",
       "    <tr>\n",
       "      <th>2</th>\n",
       "      <td>6/23/2003</td>\n",
       "      <td>74.42</td>\n",
       "    </tr>\n",
       "    <tr>\n",
       "      <th>3</th>\n",
       "      <td>6/30/2003</td>\n",
       "      <td>74.35</td>\n",
       "    </tr>\n",
       "    <tr>\n",
       "      <th>4</th>\n",
       "      <td>7/7/2003</td>\n",
       "      <td>74.28</td>\n",
       "    </tr>\n",
       "  </tbody>\n",
       "</table>\n",
       "</div>"
      ],
      "text/plain": [
       "        Date  Petrol (USD)\n",
       "0   6/9/2003         74.59\n",
       "1  6/16/2003         74.47\n",
       "2  6/23/2003         74.42\n",
       "3  6/30/2003         74.35\n",
       "4   7/7/2003         74.28"
      ]
     },
     "execution_count": 2,
     "metadata": {},
     "output_type": "execute_result"
    }
   ],
   "source": [
    "df1 = pd.read_csv(\"train_data.csv\")\n",
    "df1.head()"
   ]
  },
  {
   "cell_type": "code",
   "execution_count": 3,
   "id": "9053bc38-305c-4f4e-8c8c-72adee1bae34",
   "metadata": {},
   "outputs": [
    {
     "data": {
      "text/html": [
       "<div>\n",
       "<style scoped>\n",
       "    .dataframe tbody tr th:only-of-type {\n",
       "        vertical-align: middle;\n",
       "    }\n",
       "\n",
       "    .dataframe tbody tr th {\n",
       "        vertical-align: top;\n",
       "    }\n",
       "\n",
       "    .dataframe thead th {\n",
       "        text-align: right;\n",
       "    }\n",
       "</style>\n",
       "<table border=\"1\" class=\"dataframe\">\n",
       "  <thead>\n",
       "    <tr style=\"text-align: right;\">\n",
       "      <th></th>\n",
       "      <th>Date</th>\n",
       "      <th>Petrol (USD)</th>\n",
       "    </tr>\n",
       "  </thead>\n",
       "  <tbody>\n",
       "    <tr>\n",
       "      <th>808</th>\n",
       "      <td>12/3/2018</td>\n",
       "      <td>124.30</td>\n",
       "    </tr>\n",
       "    <tr>\n",
       "      <th>809</th>\n",
       "      <td>12/10/2018</td>\n",
       "      <td>122.37</td>\n",
       "    </tr>\n",
       "    <tr>\n",
       "      <th>810</th>\n",
       "      <td>12/17/2018</td>\n",
       "      <td>121.02</td>\n",
       "    </tr>\n",
       "    <tr>\n",
       "      <th>811</th>\n",
       "      <td>12/24/2018</td>\n",
       "      <td>120.61</td>\n",
       "    </tr>\n",
       "    <tr>\n",
       "      <th>812</th>\n",
       "      <td>12/31/2018</td>\n",
       "      <td>120.18</td>\n",
       "    </tr>\n",
       "  </tbody>\n",
       "</table>\n",
       "</div>"
      ],
      "text/plain": [
       "           Date  Petrol (USD)\n",
       "808   12/3/2018        124.30\n",
       "809  12/10/2018        122.37\n",
       "810  12/17/2018        121.02\n",
       "811  12/24/2018        120.61\n",
       "812  12/31/2018        120.18"
      ]
     },
     "execution_count": 3,
     "metadata": {},
     "output_type": "execute_result"
    }
   ],
   "source": [
    "df1.tail()"
   ]
  },
  {
   "cell_type": "markdown",
   "id": "E7SE4p_WHk-v",
   "metadata": {
    "id": "E7SE4p_WHk-v"
   },
   "source": [
    "### Data Analysis"
   ]
  },
  {
   "cell_type": "code",
   "execution_count": 4,
   "id": "9f5a6bab-e985-45ed-8bfa-eca5781ca7c7",
   "metadata": {},
   "outputs": [],
   "source": [
    "df1['Date'] = pd.to_datetime(df1['Date'])"
   ]
  },
  {
   "cell_type": "code",
   "execution_count": 5,
   "id": "984ddee3-fffe-416a-81a6-0f4de5459611",
   "metadata": {},
   "outputs": [
    {
     "name": "stdout",
     "output_type": "stream",
     "text": [
      "<class 'pandas.core.frame.DataFrame'>\n",
      "RangeIndex: 813 entries, 0 to 812\n",
      "Data columns (total 2 columns):\n",
      " #   Column        Non-Null Count  Dtype         \n",
      "---  ------        --------------  -----         \n",
      " 0   Date          813 non-null    datetime64[ns]\n",
      " 1   Petrol (USD)  811 non-null    float64       \n",
      "dtypes: datetime64[ns](1), float64(1)\n",
      "memory usage: 12.8 KB\n"
     ]
    }
   ],
   "source": [
    "df1.info()"
   ]
  },
  {
   "cell_type": "code",
   "execution_count": 6,
   "id": "1b3f5d27-7f77-448d-be06-19e9bfe2ee16",
   "metadata": {},
   "outputs": [
    {
     "data": {
      "text/html": [
       "<div>\n",
       "<style scoped>\n",
       "    .dataframe tbody tr th:only-of-type {\n",
       "        vertical-align: middle;\n",
       "    }\n",
       "\n",
       "    .dataframe tbody tr th {\n",
       "        vertical-align: top;\n",
       "    }\n",
       "\n",
       "    .dataframe thead th {\n",
       "        text-align: right;\n",
       "    }\n",
       "</style>\n",
       "<table border=\"1\" class=\"dataframe\">\n",
       "  <thead>\n",
       "    <tr style=\"text-align: right;\">\n",
       "      <th></th>\n",
       "      <th>Date</th>\n",
       "      <th>Petrol (USD)</th>\n",
       "    </tr>\n",
       "  </thead>\n",
       "  <tbody>\n",
       "    <tr>\n",
       "      <th>count</th>\n",
       "      <td>813</td>\n",
       "      <td>811.000000</td>\n",
       "    </tr>\n",
       "    <tr>\n",
       "      <th>mean</th>\n",
       "      <td>2011-03-21 00:12:23.911439104</td>\n",
       "      <td>110.330481</td>\n",
       "    </tr>\n",
       "    <tr>\n",
       "      <th>min</th>\n",
       "      <td>2003-06-09 00:00:00</td>\n",
       "      <td>74.210000</td>\n",
       "    </tr>\n",
       "    <tr>\n",
       "      <th>25%</th>\n",
       "      <td>2007-04-30 00:00:00</td>\n",
       "      <td>94.525000</td>\n",
       "    </tr>\n",
       "    <tr>\n",
       "      <th>50%</th>\n",
       "      <td>2011-03-21 00:00:00</td>\n",
       "      <td>112.420000</td>\n",
       "    </tr>\n",
       "    <tr>\n",
       "      <th>75%</th>\n",
       "      <td>2015-02-09 00:00:00</td>\n",
       "      <td>128.560000</td>\n",
       "    </tr>\n",
       "    <tr>\n",
       "      <th>max</th>\n",
       "      <td>2018-12-31 00:00:00</td>\n",
       "      <td>189.510000</td>\n",
       "    </tr>\n",
       "    <tr>\n",
       "      <th>std</th>\n",
       "      <td>NaN</td>\n",
       "      <td>19.241182</td>\n",
       "    </tr>\n",
       "  </tbody>\n",
       "</table>\n",
       "</div>"
      ],
      "text/plain": [
       "                                Date  Petrol (USD)\n",
       "count                            813    811.000000\n",
       "mean   2011-03-21 00:12:23.911439104    110.330481\n",
       "min              2003-06-09 00:00:00     74.210000\n",
       "25%              2007-04-30 00:00:00     94.525000\n",
       "50%              2011-03-21 00:00:00    112.420000\n",
       "75%              2015-02-09 00:00:00    128.560000\n",
       "max              2018-12-31 00:00:00    189.510000\n",
       "std                              NaN     19.241182"
      ]
     },
     "execution_count": 6,
     "metadata": {},
     "output_type": "execute_result"
    }
   ],
   "source": [
    "df1.describe()"
   ]
  },
  {
   "cell_type": "code",
   "execution_count": 7,
   "id": "yRE7X5FfSeqt",
   "metadata": {
    "id": "yRE7X5FfSeqt"
   },
   "outputs": [
    {
     "data": {
      "text/plain": [
       "Date            0\n",
       "Petrol (USD)    2\n",
       "dtype: int64"
      ]
     },
     "execution_count": 7,
     "metadata": {},
     "output_type": "execute_result"
    }
   ],
   "source": [
    "df1.isnull().sum()"
   ]
  },
  {
   "cell_type": "code",
   "execution_count": 8,
   "id": "ffb74343",
   "metadata": {
    "id": "ffb74343"
   },
   "outputs": [],
   "source": [
    "df2 = df1.dropna()"
   ]
  },
  {
   "cell_type": "code",
   "execution_count": 9,
   "id": "e6c0da0d",
   "metadata": {
    "id": "e6c0da0d"
   },
   "outputs": [
    {
     "data": {
      "text/html": [
       "<div>\n",
       "<style scoped>\n",
       "    .dataframe tbody tr th:only-of-type {\n",
       "        vertical-align: middle;\n",
       "    }\n",
       "\n",
       "    .dataframe tbody tr th {\n",
       "        vertical-align: top;\n",
       "    }\n",
       "\n",
       "    .dataframe thead th {\n",
       "        text-align: right;\n",
       "    }\n",
       "</style>\n",
       "<table border=\"1\" class=\"dataframe\">\n",
       "  <thead>\n",
       "    <tr style=\"text-align: right;\">\n",
       "      <th></th>\n",
       "      <th>Date</th>\n",
       "      <th>Petrol</th>\n",
       "    </tr>\n",
       "  </thead>\n",
       "  <tbody>\n",
       "    <tr>\n",
       "      <th>0</th>\n",
       "      <td>2003-06-09</td>\n",
       "      <td>74.59</td>\n",
       "    </tr>\n",
       "    <tr>\n",
       "      <th>1</th>\n",
       "      <td>2003-06-16</td>\n",
       "      <td>74.47</td>\n",
       "    </tr>\n",
       "    <tr>\n",
       "      <th>2</th>\n",
       "      <td>2003-06-23</td>\n",
       "      <td>74.42</td>\n",
       "    </tr>\n",
       "    <tr>\n",
       "      <th>3</th>\n",
       "      <td>2003-06-30</td>\n",
       "      <td>74.35</td>\n",
       "    </tr>\n",
       "    <tr>\n",
       "      <th>4</th>\n",
       "      <td>2003-07-07</td>\n",
       "      <td>74.28</td>\n",
       "    </tr>\n",
       "  </tbody>\n",
       "</table>\n",
       "</div>"
      ],
      "text/plain": [
       "        Date  Petrol\n",
       "0 2003-06-09   74.59\n",
       "1 2003-06-16   74.47\n",
       "2 2003-06-23   74.42\n",
       "3 2003-06-30   74.35\n",
       "4 2003-07-07   74.28"
      ]
     },
     "execution_count": 9,
     "metadata": {},
     "output_type": "execute_result"
    }
   ],
   "source": [
    "df2.rename(columns={\"Petrol (USD)\": \"Petrol\"}, inplace = True)\n",
    "df2.head()"
   ]
  },
  {
   "cell_type": "code",
   "execution_count": 10,
   "id": "e0636c4a-2af3-434b-aa6b-6927aa3208dc",
   "metadata": {},
   "outputs": [
    {
     "name": "stdout",
     "output_type": "stream",
     "text": [
      "Date\n",
      "2003-06-30    74.4575\n",
      "2003-07-31    74.6650\n",
      "2003-08-31    75.6050\n",
      "2003-09-30    76.1580\n",
      "2003-10-31    76.0950\n",
      "Freq: M, Name: Petrol, dtype: float64\n"
     ]
    }
   ],
   "source": [
    "df2.set_index('Date', inplace=True)\n",
    "\n",
    "# Resample the data to monthly frequency and calculate the mean petrol price\n",
    "monthly_avg = df2['Petrol'].resample('M').mean()\n",
    "print(monthly_avg.head())"
   ]
  },
  {
   "cell_type": "code",
   "execution_count": 11,
   "id": "7a0e4221-1ff1-4e19-933c-68387e1c8eb4",
   "metadata": {},
   "outputs": [
    {
     "data": {
      "image/png": "[encoded data removed]",
      "text/plain": [
       "<Figure size 1200x600 with 1 Axes>"
      ]
     },
     "metadata": {},
     "output_type": "display_data"
    }
   ],
   "source": [
    "plt.figure(figsize=(12, 6))\n",
    "plt.plot(df2.index, df2['Petrol'], label='Petrol Price')\n",
    "plt.title('Petrol Price Over Time')\n",
    "plt.xlabel('Date')\n",
    "plt.ylabel('Petrol Price')\n",
    "plt.legend()\n",
    "plt.show()"
   ]
  },
  {
   "cell_type": "code",
   "execution_count": 12,
   "id": "713281cb-ad12-4b91-b756-d70ad4a453ac",
   "metadata": {},
   "outputs": [
    {
     "data": {
      "image/png": "[encoded data removed]",
      "text/plain": [
       "<Figure size 1200x600 with 1 Axes>"
      ]
     },
     "metadata": {},
     "output_type": "display_data"
    }
   ],
   "source": [
    "# Rolling mean\n",
    "rolling_mean = df2['Petrol'].rolling(window=12).mean()\n",
    "\n",
    "plt.figure(figsize=(12, 6))\n",
    "plt.plot(df2.index, df2['Petrol'], label='Original')\n",
    "plt.plot(df2.index, rolling_mean, color='aqua', label='Rolling Mean')\n",
    "plt.title('Rolling Mean of Petrol Price')\n",
    "plt.xlabel('Date')\n",
    "plt.ylabel('Petrol Price')\n",
    "plt.legend()\n",
    "plt.show()"
   ]
  },
  {
   "cell_type": "code",
   "execution_count": 13,
   "id": "538544df",
   "metadata": {
    "id": "538544df"
   },
   "outputs": [
    {
     "data": {
      "text/plain": [
       "<matplotlib.collections.PathCollection at 0x2a07e1444d0>"
      ]
     },
     "execution_count": 13,
     "metadata": {},
     "output_type": "execute_result"
    },
    {
     "data": {
      "image/png": "[encoded data removed]",
      "text/plain": [
       "<Figure size 1200x600 with 1 Axes>"
      ]
     },
     "metadata": {},
     "output_type": "display_data"
    }
   ],
   "source": [
    "df3=df2[df2.Petrol<160]\n",
    "plt.figure(figsize=(12, 6))\n",
    "plt.scatter(df3.index, df3.Petrol,color='blue',label='Prices', s=50)"
   ]
  },
  {
   "cell_type": "code",
   "execution_count": 14,
   "id": "7ef6f8f0-6019-4200-b081-b4fd0c4ad5c9",
   "metadata": {},
   "outputs": [
    {
     "data": {
      "image/png": "[encoded data removed]",
      "text/plain": [
       "<Figure size 640x480 with 4 Axes>"
      ]
     },
     "metadata": {},
     "output_type": "display_data"
    }
   ],
   "source": [
    "from statsmodels.tsa.seasonal import seasonal_decompose\n",
    "\n",
    "result = seasonal_decompose(df3['Petrol'], model='additive', period=12)\n",
    "result.plot()\n",
    "plt.show()"
   ]
  },
  {
   "cell_type": "markdown",
   "id": "cb8c6ea8-e84c-45f6-a14e-fe2d1c490d28",
   "metadata": {},
   "source": [
    "<b> Our data is showing seasonality and a varied increasing trend. </b>"
   ]
  },
  {
   "cell_type": "code",
   "execution_count": 15,
   "id": "e4c051f6-ba1c-43d6-bd1f-6ee38b4ef467",
   "metadata": {},
   "outputs": [
    {
     "name": "stdout",
     "output_type": "stream",
     "text": [
      "ADF Statistic: -1.9815214804444208\n",
      "p-value: 0.29473359284329115\n"
     ]
    }
   ],
   "source": [
    "from statsmodels.tsa.stattools import adfuller\n",
    "\n",
    "# Perform Augmented Dickey-Fuller test\n",
    "result = adfuller(df3['Petrol'])\n",
    "print(f'ADF Statistic: {result[0]}')\n",
    "print(f'p-value: {result[1]}')"
   ]
  },
  {
   "cell_type": "markdown",
   "id": "c3008ac7-cf64-4086-abd4-2b63c769e375",
   "metadata": {},
   "source": [
    "<b> Since p-value is > 0.05, our data is non-stationary. </b>"
   ]
  },
  {
   "cell_type": "code",
   "execution_count": 16,
   "id": "d4ad8c50-73e4-4a50-8601-83f21f4b08d6",
   "metadata": {},
   "outputs": [],
   "source": [
    "df3.set_index(df3.index, inplace=True)"
   ]
  },
  {
   "cell_type": "code",
   "execution_count": 17,
   "id": "4972b062-d7fe-426a-9a49-e185a71fef01",
   "metadata": {},
   "outputs": [
    {
     "data": {
      "text/html": [
       "<div>\n",
       "<style scoped>\n",
       "    .dataframe tbody tr th:only-of-type {\n",
       "        vertical-align: middle;\n",
       "    }\n",
       "\n",
       "    .dataframe tbody tr th {\n",
       "        vertical-align: top;\n",
       "    }\n",
       "\n",
       "    .dataframe thead th {\n",
       "        text-align: right;\n",
       "    }\n",
       "</style>\n",
       "<table border=\"1\" class=\"dataframe\">\n",
       "  <thead>\n",
       "    <tr style=\"text-align: right;\">\n",
       "      <th></th>\n",
       "      <th>Petrol</th>\n",
       "    </tr>\n",
       "    <tr>\n",
       "      <th>Date</th>\n",
       "      <th></th>\n",
       "    </tr>\n",
       "  </thead>\n",
       "  <tbody>\n",
       "    <tr>\n",
       "      <th>2003-06-09</th>\n",
       "      <td>74.59</td>\n",
       "    </tr>\n",
       "    <tr>\n",
       "      <th>2003-06-16</th>\n",
       "      <td>74.47</td>\n",
       "    </tr>\n",
       "    <tr>\n",
       "      <th>2003-06-23</th>\n",
       "      <td>74.42</td>\n",
       "    </tr>\n",
       "    <tr>\n",
       "      <th>2003-06-30</th>\n",
       "      <td>74.35</td>\n",
       "    </tr>\n",
       "    <tr>\n",
       "      <th>2003-07-07</th>\n",
       "      <td>74.28</td>\n",
       "    </tr>\n",
       "  </tbody>\n",
       "</table>\n",
       "</div>"
      ],
      "text/plain": [
       "            Petrol\n",
       "Date              \n",
       "2003-06-09   74.59\n",
       "2003-06-16   74.47\n",
       "2003-06-23   74.42\n",
       "2003-06-30   74.35\n",
       "2003-07-07   74.28"
      ]
     },
     "execution_count": 17,
     "metadata": {},
     "output_type": "execute_result"
    }
   ],
   "source": [
    "df3.head()"
   ]
  },
  {
   "cell_type": "code",
   "execution_count": 18,
   "id": "30dc4e9d-1401-45d7-9f1d-0daa072abe25",
   "metadata": {},
   "outputs": [
    {
     "data": {
      "image/png": "[encoded data removed]",
      "text/plain": [
       "<Figure size 1200x800 with 2 Axes>"
      ]
     },
     "metadata": {},
     "output_type": "display_data"
    }
   ],
   "source": [
    "from statsmodels.graphics.tsaplots import plot_acf, plot_pacf\n",
    "fig, ax = plt.subplots(2, figsize=(12, 8))\n",
    "\n",
    "plot_acf(df3['Petrol'], lags=40, ax=ax[0])\n",
    "ax[0].set_title('Autocorrelation Function (ACF)')\n",
    "\n",
    "plot_pacf(df3['Petrol'], lags=40, ax=ax[1])\n",
    "ax[1].set_title('Partial Autocorrelation Function (PACF)')\n",
    "\n",
    "plt.show()"
   ]
  },
  {
   "cell_type": "markdown",
   "id": "1c6cd007-c024-406f-ba7f-69a7d98459a7",
   "metadata": {},
   "source": [
    "### Feature Engineering"
   ]
  },
  {
   "cell_type": "code",
   "execution_count": 19,
   "id": "2d8aa241",
   "metadata": {
    "id": "2d8aa241"
   },
   "outputs": [],
   "source": [
    "from sklearn.preprocessing import MinMaxScaler\n",
    "scaler=MinMaxScaler(feature_range=(0,1))\n",
    "df3=scaler.fit_transform(np.array(df3).reshape(-1,1))"
   ]
  },
  {
   "cell_type": "code",
   "execution_count": 20,
   "id": "B713sYwzOf-r",
   "metadata": {
    "id": "B713sYwzOf-r",
    "scrolled": true
   },
   "outputs": [
    {
     "data": {
      "text/plain": [
       "array([[0.00559152],\n",
       "       [0.00382578],\n",
       "       [0.00309005],\n",
       "       [0.00206004],\n",
       "       [0.00103002],\n",
       "       [0.        ],\n",
       "       [0.0126545 ],\n",
       "       [0.01309594],\n",
       "       [0.01339023],\n",
       "       [0.01809888],\n",
       "       [0.02354326],\n",
       "       [0.02707475],\n",
       "       [0.02825191],\n",
       "       [0.02972337],\n",
       "       [0.02928193],\n",
       "       [0.0285462 ],\n",
       "       [0.02751619],\n",
       "       [0.03266627],\n",
       "       [0.02486757],\n",
       "       [0.02707475],\n",
       "       [0.02633902],\n",
       "       [0.02633902],\n",
       "       [0.02545615],\n",
       "       [0.02530901],\n",
       "       [0.02663331],\n",
       "       [0.02633902],\n",
       "       [0.02589759],\n",
       "       [0.02575044],\n",
       "       [0.02516186],\n",
       "       [0.02545615],\n",
       "       [0.02457328],\n",
       "       [0.02486757],\n",
       "       [0.03163626],\n",
       "       [0.03281342],\n",
       "       [0.033402  ],\n",
       "       [0.03369629],\n",
       "       [0.03281342],\n",
       "       [0.03193055],\n",
       "       [0.03104768],\n",
       "       [0.03708064],\n",
       "       [0.04679223],\n",
       "       [0.04752796],\n",
       "       [0.04973514],\n",
       "       [0.05370806],\n",
       "       [0.05400235],\n",
       "       [0.05635668],\n",
       "       [0.06165391],\n",
       "       [0.07460271],\n",
       "       [0.08961154],\n",
       "       [0.10712184],\n",
       "       [0.11653914],\n",
       "       [0.11977634],\n",
       "       [0.12110065],\n",
       "       [0.10785756],\n",
       "       [0.10050029],\n",
       "       [0.09123014],\n",
       "       [0.08328428],\n",
       "       [0.09020012],\n",
       "       [0.09755739],\n",
       "       [0.09799882],\n",
       "       [0.09785168],\n",
       "       [0.10256033],\n",
       "       [0.10359035],\n",
       "       [0.10741613],\n",
       "       [0.10771042],\n",
       "       [0.10535609],\n",
       "       [0.10447322],\n",
       "       [0.10403178],\n",
       "       [0.10918187],\n",
       "       [0.11536198],\n",
       "       [0.13095939],\n",
       "       [0.13449088],\n",
       "       [0.14317245],\n",
       "       [0.14802825],\n",
       "       [0.14905827],\n",
       "       [0.14788111],\n",
       "       [0.1066804 ],\n",
       "       [0.1465568 ],\n",
       "       [0.1449382 ],\n",
       "       [0.1066804 ],\n",
       "       [0.10285462],\n",
       "       [0.10241318],\n",
       "       [0.08284285],\n",
       "       [0.06945262],\n",
       "       [0.06945262],\n",
       "       [0.07842849],\n",
       "       [0.08284285],\n",
       "       [0.08563861],\n",
       "       [0.08740436],\n",
       "       [0.09181872],\n",
       "       [0.10226604],\n",
       "       [0.10932902],\n",
       "       [0.12492643],\n",
       "       [0.1352266 ],\n",
       "       [0.14273102],\n",
       "       [0.16774573],\n",
       "       [0.16804002],\n",
       "       [0.16627428],\n",
       "       [0.16524426],\n",
       "       [0.1640671 ],\n",
       "       [0.16274279],\n",
       "       [0.15538552],\n",
       "       [0.14670394],\n",
       "       [0.14420247],\n",
       "       [0.15862272],\n",
       "       [0.16642142],\n",
       "       [0.18422602],\n",
       "       [0.19540906],\n",
       "       [0.19894055],\n",
       "       [0.21100647],\n",
       "       [0.21762802],\n",
       "       [0.22130665],\n",
       "       [0.22748676],\n",
       "       [0.2405827 ],\n",
       "       [0.24367275],\n",
       "       [0.2532372 ],\n",
       "       [0.29664509],\n",
       "       [0.30694526],\n",
       "       [0.29723367],\n",
       "       [0.28134197],\n",
       "       [0.28399058],\n",
       "       [0.29487934],\n",
       "       [0.29326074],\n",
       "       [0.283402  ],\n",
       "       [0.26868746],\n",
       "       [0.24014126],\n",
       "       [0.21188935],\n",
       "       [0.19334903],\n",
       "       [0.19334903],\n",
       "       [0.19114185],\n",
       "       [0.19643908],\n",
       "       [0.20114773],\n",
       "       [0.20335491],\n",
       "       [0.21115362],\n",
       "       [0.21777516],\n",
       "       [0.22572101],\n",
       "       [0.23057681],\n",
       "       [0.22836963],\n",
       "       [0.22719247],\n",
       "       [0.22645674],\n",
       "       [0.2230724 ],\n",
       "       [0.22572101],\n",
       "       [0.23513832],\n",
       "       [0.24941142],\n",
       "       [0.25853443],\n",
       "       [0.27310182],\n",
       "       [0.29458505],\n",
       "       [0.31106533],\n",
       "       [0.32254267],\n",
       "       [0.32739847],\n",
       "       [0.32636845],\n",
       "       [0.32210124],\n",
       "       [0.31121248],\n",
       "       [0.30944673],\n",
       "       [0.31312537],\n",
       "       [0.31238964],\n",
       "       [0.30547381],\n",
       "       [0.30988817],\n",
       "       [0.31606828],\n",
       "       [0.33357858],\n",
       "       [0.34682166],\n",
       "       [0.34755739],\n",
       "       [0.35079459],\n",
       "       [0.34741024],\n",
       "       [0.316804  ],\n",
       "       [0.29708652],\n",
       "       [0.27472042],\n",
       "       [0.25412007],\n",
       "       [0.22910536],\n",
       "       [0.20585639],\n",
       "       [0.18746321],\n",
       "       [0.18231313],\n",
       "       [0.17216009],\n",
       "       [0.16965862],\n",
       "       [0.16759859],\n",
       "       [0.16671572],\n",
       "       [0.16597999],\n",
       "       [0.1656857 ],\n",
       "       [0.16553855],\n",
       "       [0.19467334],\n",
       "       [0.19849912],\n",
       "       [0.20144202],\n",
       "       [0.2007063 ],\n",
       "       [0.19791054],\n",
       "       [0.18967039],\n",
       "       [0.17760447],\n",
       "       [0.16848146],\n",
       "       [0.16789288],\n",
       "       [0.17525015],\n",
       "       [0.18231313],\n",
       "       [0.18922896],\n",
       "       [0.1990877 ],\n",
       "       [0.20997646],\n",
       "       [0.216598  ],\n",
       "       [0.22233667],\n",
       "       [0.23925839],\n",
       "       [0.24970571],\n",
       "       [0.26162448],\n",
       "       [0.27545615],\n",
       "       [0.28310771],\n",
       "       [0.29752796],\n",
       "       [0.30694526],\n",
       "       [0.31636257],\n",
       "       [0.32298411],\n",
       "       [0.3281342 ],\n",
       "       [0.32960565],\n",
       "       [0.32886992],\n",
       "       [0.32857563],\n",
       "       [0.32592702],\n",
       "       [0.32357269],\n",
       "       [0.32371984],\n",
       "       [0.32401413],\n",
       "       [0.32357269],\n",
       "       [0.32283696],\n",
       "       [0.32062978],\n",
       "       [0.31047675],\n",
       "       [0.30591524],\n",
       "       [0.30297234],\n",
       "       [0.30047087],\n",
       "       [0.30076516],\n",
       "       [0.30459094],\n",
       "       [0.32636845],\n",
       "       [0.33740436],\n",
       "       [0.33814008],\n",
       "       [0.3472631 ],\n",
       "       [0.35388464],\n",
       "       [0.37007063],\n",
       "       [0.39037669],\n",
       "       [0.4011183 ],\n",
       "       [0.4108299 ],\n",
       "       [0.41745144],\n",
       "       [0.41877575],\n",
       "       [0.41774573],\n",
       "       [0.41671572],\n",
       "       [0.41862861],\n",
       "       [0.42907593],\n",
       "       [0.43569747],\n",
       "       [0.44158328],\n",
       "       [0.44158328],\n",
       "       [0.43878752],\n",
       "       [0.43349029],\n",
       "       [0.43393172],\n",
       "       [0.44791054],\n",
       "       [0.45659211],\n",
       "       [0.46718658],\n",
       "       [0.47380812],\n",
       "       [0.48101825],\n",
       "       [0.48396115],\n",
       "       [0.48602119],\n",
       "       [0.49146557],\n",
       "       [0.50559152],\n",
       "       [0.51927604],\n",
       "       [0.53104768],\n",
       "       [0.54193643],\n",
       "       [0.57018835],\n",
       "       [0.59711595],\n",
       "       [0.61536198],\n",
       "       [0.62757504],\n",
       "       [0.63978811],\n",
       "       [0.65082401],\n",
       "       [0.65670983],\n",
       "       [0.66318423],\n",
       "       [0.66553855],\n",
       "       [0.66494997],\n",
       "       [0.62831077],\n",
       "       [0.60108888],\n",
       "       [0.5843143 ],\n",
       "       [0.55929959],\n",
       "       [0.55635668],\n",
       "       [0.5590053 ],\n",
       "       [0.56415539],\n",
       "       [0.5635668 ],\n",
       "       [0.53855209],\n",
       "       [0.52442613],\n",
       "       [0.51854032],\n",
       "       [0.48307828],\n",
       "       [0.41862861],\n",
       "       [0.35918187],\n",
       "       [0.34123014],\n",
       "       [0.31901118],\n",
       "       [0.30341377],\n",
       "       [0.27339612],\n",
       "       [0.25397293],\n",
       "       [0.23469688],\n",
       "       [0.21865803],\n",
       "       [0.20306062],\n",
       "       [0.19320188],\n",
       "       [0.16494997],\n",
       "       [0.17377869],\n",
       "       [0.17628016],\n",
       "       [0.19437905],\n",
       "       [0.2052678 ],\n",
       "       [0.22174809],\n",
       "       [0.2341083 ],\n",
       "       [0.23719835],\n",
       "       [0.23646263],\n",
       "       [0.23454974],\n",
       "       [0.23469688],\n",
       "       [0.23469688],\n",
       "       [0.25220718],\n",
       "       [0.28708064],\n",
       "       [0.29281931],\n",
       "       [0.30032372],\n",
       "       [0.30782813],\n",
       "       [0.31474397],\n",
       "       [0.32931136],\n",
       "       [0.34329017],\n",
       "       [0.36330194],\n",
       "       [0.37051207],\n",
       "       [0.38816951],\n",
       "       [0.40862272],\n",
       "       [0.42083579],\n",
       "       [0.42804591],\n",
       "       [0.43201883],\n",
       "       [0.42039435],\n",
       "       [0.41215421],\n",
       "       [0.41141848],\n",
       "       [0.41421424],\n",
       "       [0.42377869],\n",
       "       [0.4377575 ],\n",
       "       [0.44864626],\n",
       "       [0.45467922],\n",
       "       [0.48028252],\n",
       "       [0.47410241],\n",
       "       [0.46718658],\n",
       "       [0.45953502],\n",
       "       [0.45114773],\n",
       "       [0.44879341],\n",
       "       [0.45423779],\n",
       "       [0.47895821],\n",
       "       [0.48881695],\n",
       "       [0.49867569],\n",
       "       [0.50426722],\n",
       "       [0.50794585],\n",
       "       [0.50882872],\n",
       "       [0.50662154],\n",
       "       [0.50456151],\n",
       "       [0.48940553],\n",
       "       [0.4889641 ],\n",
       "       [0.51692172],\n",
       "       [0.53722778],\n",
       "       [0.55017657],\n",
       "       [0.5541495 ],\n",
       "       [0.55473808],\n",
       "       [0.55532666],\n",
       "       [0.55444379],\n",
       "       [0.54958799],\n",
       "       [0.5622425 ],\n",
       "       [0.58122425],\n",
       "       [0.60697469],\n",
       "       [0.62360212],\n",
       "       [0.63375515],\n",
       "       [0.66333137],\n",
       "       [0.67289582],\n",
       "       [0.68187169],\n",
       "       [0.68834609],\n",
       "       [0.69114185],\n",
       "       [0.69305474],\n",
       "       [0.69290759],\n",
       "       [0.67274868],\n",
       "       [0.65229547],\n",
       "       [0.64729253],\n",
       "       [0.64243673],\n",
       "       [0.64140671],\n",
       "       [0.64258387],\n",
       "       [0.64302531],\n",
       "       [0.63537375],\n",
       "       [0.6274279 ],\n",
       "       [0.62389641],\n",
       "       [0.62242496],\n",
       "       [0.62007063],\n",
       "       [0.61992348],\n",
       "       [0.60962331],\n",
       "       [0.59991171],\n",
       "       [0.59417304],\n",
       "       [0.59520306],\n",
       "       [0.60108888],\n",
       "       [0.60594467],\n",
       "       [0.61506769],\n",
       "       [0.62639788],\n",
       "       [0.63375515],\n",
       "       [0.64052384],\n",
       "       [0.64699823],\n",
       "       [0.65420836],\n",
       "       [0.65612125],\n",
       "       [0.65891701],\n",
       "       [0.66215421],\n",
       "       [0.68172454],\n",
       "       [0.69849912],\n",
       "       [0.70776928],\n",
       "       [0.7243967 ],\n",
       "       [0.7451442 ],\n",
       "       [0.78266627],\n",
       "       [0.78958211],\n",
       "       [0.79664509],\n",
       "       [0.79958799],\n",
       "       [0.8009123 ],\n",
       "       [0.80223661],\n",
       "       [0.80503237],\n",
       "       [0.816804  ],\n",
       "       [0.83975868],\n",
       "       [0.85300177],\n",
       "       [0.86668629],\n",
       "       [0.85682755],\n",
       "       [0.86227192],\n",
       "       [0.87507357],\n",
       "       [0.89537964],\n",
       "       [0.90361978],\n",
       "       [0.91347852],\n",
       "       [0.92466157],\n",
       "       [0.91509712],\n",
       "       [0.9108299 ],\n",
       "       [0.90288405],\n",
       "       [0.90361978],\n",
       "       [0.90715127],\n",
       "       [0.90965274],\n",
       "       [0.89243673],\n",
       "       [0.87139494],\n",
       "       [0.88243084],\n",
       "       [0.89405533],\n",
       "       [0.90420836],\n",
       "       [0.91024132],\n",
       "       [0.91597999],\n",
       "       [0.90847557],\n",
       "       [0.88802237],\n",
       "       [0.88449088],\n",
       "       [0.88890524],\n",
       "       [0.89449676],\n",
       "       [0.90038258],\n",
       "       [0.90406121],\n",
       "       [0.89479105],\n",
       "       [0.88669806],\n",
       "       [0.88699235],\n",
       "       [0.88949382],\n",
       "       [0.89052384],\n",
       "       [0.88581519],\n",
       "       [0.87507357],\n",
       "       [0.87065921],\n",
       "       [0.86756916],\n",
       "       [0.86183049],\n",
       "       [0.85815185],\n",
       "       [0.85756327],\n",
       "       [0.85638611],\n",
       "       [0.85623896],\n",
       "       [0.86035903],\n",
       "       [0.8693349 ],\n",
       "       [0.87566215],\n",
       "       [0.88125368],\n",
       "       [0.88346086],\n",
       "       [0.89302531],\n",
       "       [0.89758682],\n",
       "       [0.91230135],\n",
       "       [0.9283402 ],\n",
       "       [0.93716892],\n",
       "       [0.95276633],\n",
       "       [0.96041789],\n",
       "       [0.98263685],\n",
       "       [0.99705709],\n",
       "       [1.        ],\n",
       "       [0.99396704],\n",
       "       [0.98278399],\n",
       "       [0.97012949],\n",
       "       [0.94290759],\n",
       "       [0.90582696],\n",
       "       [0.8852266 ],\n",
       "       [0.8806651 ],\n",
       "       [0.87492643],\n",
       "       [0.850206  ],\n",
       "       [0.84373161],\n",
       "       [0.82828134],\n",
       "       [0.83652148],\n",
       "       [0.84284873],\n",
       "       [0.8534432 ],\n",
       "       [0.86183049],\n",
       "       [0.87080636],\n",
       "       [0.88375515],\n",
       "       [0.90509123],\n",
       "       [0.92539729],\n",
       "       [0.93908181],\n",
       "       [0.95203061],\n",
       "       [0.95953502],\n",
       "       [0.96130077],\n",
       "       [0.94496763],\n",
       "       [0.94217187],\n",
       "       [0.94379046],\n",
       "       [0.94290759],\n",
       "       [0.92363155],\n",
       "       [0.91553855],\n",
       "       [0.89582107],\n",
       "       [0.88802237],\n",
       "       [0.88537375],\n",
       "       [0.86580341],\n",
       "       [0.85844614],\n",
       "       [0.85005886],\n",
       "       [0.84961742],\n",
       "       [0.84917599],\n",
       "       [0.84829311],\n",
       "       [0.85035315],\n",
       "       [0.8534432 ],\n",
       "       [0.86433196],\n",
       "       [0.88537375],\n",
       "       [0.9027369 ],\n",
       "       [0.9218658 ],\n",
       "       [0.94599765],\n",
       "       [0.96027075],\n",
       "       [0.96806945],\n",
       "       [0.93246027],\n",
       "       [0.92525015],\n",
       "       [0.9283402 ],\n",
       "       [0.92848735],\n",
       "       [0.92554444],\n",
       "       [0.90450265],\n",
       "       [0.88949382],\n",
       "       [0.87124779],\n",
       "       [0.86683343],\n",
       "       [0.86756916],\n",
       "       [0.87448499],\n",
       "       [0.88037081],\n",
       "       [0.88419659],\n",
       "       [0.88655091],\n",
       "       [0.88743378],\n",
       "       [0.87154208],\n",
       "       [0.87639788],\n",
       "       [0.89376104],\n",
       "       [0.90979988],\n",
       "       [0.92201295],\n",
       "       [0.92422013],\n",
       "       [0.92583873],\n",
       "       [0.92392584],\n",
       "       [0.92142437],\n",
       "       [0.92598587],\n",
       "       [0.93275456],\n",
       "       [0.93084167],\n",
       "       [0.92319011],\n",
       "       [0.8709535 ],\n",
       "       [0.84476162],\n",
       "       [0.84549735],\n",
       "       [0.84343732],\n",
       "       [0.84181872],\n",
       "       [0.81974691],\n",
       "       [0.81665686],\n",
       "       [0.81930547],\n",
       "       [0.82136551],\n",
       "       [0.82460271],\n",
       "       [0.83210712],\n",
       "       [0.83505003],\n",
       "       [0.8216598 ],\n",
       "       [0.82136551],\n",
       "       [0.82474985],\n",
       "       [0.82622131],\n",
       "       [0.81165391],\n",
       "       [0.80650383],\n",
       "       [0.80400235],\n",
       "       [0.80341377],\n",
       "       [0.80856386],\n",
       "       [0.80915244],\n",
       "       [0.81150677],\n",
       "       [0.8119482 ],\n",
       "       [0.80267805],\n",
       "       [0.79988228],\n",
       "       [0.80267805],\n",
       "       [0.80194232],\n",
       "       [0.80459094],\n",
       "       [0.80782813],\n",
       "       [0.80753384],\n",
       "       [0.81018246],\n",
       "       [0.8135668 ],\n",
       "       [0.81238964],\n",
       "       [0.81371395],\n",
       "       [0.81547969],\n",
       "       [0.81636257],\n",
       "       [0.81915833],\n",
       "       [0.82298411],\n",
       "       [0.8310771 ],\n",
       "       [0.83711006],\n",
       "       [0.83725721],\n",
       "       [0.83622719],\n",
       "       [0.83313714],\n",
       "       [0.81547969],\n",
       "       [0.8122425 ],\n",
       "       [0.81047675],\n",
       "       [0.79649794],\n",
       "       [0.79164214],\n",
       "       [0.79649794],\n",
       "       [0.79782225],\n",
       "       [0.80061801],\n",
       "       [0.80017657],\n",
       "       [0.77354326],\n",
       "       [0.76942319],\n",
       "       [0.7532372 ],\n",
       "       [0.74896998],\n",
       "       [0.73175397],\n",
       "       [0.71703943],\n",
       "       [0.71056504],\n",
       "       [0.70747499],\n",
       "       [0.69114185],\n",
       "       [0.67127722],\n",
       "       [0.6193349 ],\n",
       "       [0.58048852],\n",
       "       [0.57313125],\n",
       "       [0.54223072],\n",
       "       [0.51000589],\n",
       "       [0.47998823],\n",
       "       [0.47248381],\n",
       "       [0.46836374],\n",
       "       [0.47292525],\n",
       "       [0.48631548],\n",
       "       [0.50220718],\n",
       "       [0.51486168],\n",
       "       [0.52766333],\n",
       "       [0.54193643],\n",
       "       [0.5509123 ],\n",
       "       [0.55694526],\n",
       "       [0.56150677],\n",
       "       [0.56371395],\n",
       "       [0.56886404],\n",
       "       [0.57886992],\n",
       "       [0.58946439],\n",
       "       [0.60167746],\n",
       "       [0.61109476],\n",
       "       [0.61521483],\n",
       "       [0.61683343],\n",
       "       [0.61874632],\n",
       "       [0.62065921],\n",
       "       [0.62374926],\n",
       "       [0.62301354],\n",
       "       [0.61992348],\n",
       "       [0.6209535 ],\n",
       "       [0.62654503],\n",
       "       [0.62139494],\n",
       "       [0.61668629],\n",
       "       [0.60726898],\n",
       "       [0.5940259 ],\n",
       "       [0.57416127],\n",
       "       [0.5444379 ],\n",
       "       [0.5398764 ],\n",
       "       [0.53546204],\n",
       "       [0.53560918],\n",
       "       [0.51883461],\n",
       "       [0.5110359 ],\n",
       "       [0.51147734],\n",
       "       [0.51206592],\n",
       "       [0.49779282],\n",
       "       [0.48557975],\n",
       "       [0.48454974],\n",
       "       [0.48778693],\n",
       "       [0.48675692],\n",
       "       [0.48204826],\n",
       "       [0.47881107],\n",
       "       [0.43834609],\n",
       "       [0.41377281],\n",
       "       [0.41053561],\n",
       "       [0.40891701],\n",
       "       [0.40729841],\n",
       "       [0.4059741 ],\n",
       "       [0.40038258],\n",
       "       [0.39949971],\n",
       "       [0.40170689],\n",
       "       [0.40082401],\n",
       "       [0.39994114],\n",
       "       [0.40038258],\n",
       "       [0.40097116],\n",
       "       [0.40464979],\n",
       "       [0.41745144],\n",
       "       [0.42951736],\n",
       "       [0.4458505 ],\n",
       "       [0.45879929],\n",
       "       [0.47380812],\n",
       "       [0.48454974],\n",
       "       [0.49455562],\n",
       "       [0.5       ],\n",
       "       [0.50500294],\n",
       "       [0.51368452],\n",
       "       [0.52354326],\n",
       "       [0.53251913],\n",
       "       [0.54178929],\n",
       "       [0.54458505],\n",
       "       [0.54782225],\n",
       "       [0.5509123 ],\n",
       "       [0.55444379],\n",
       "       [0.55488523],\n",
       "       [0.55150088],\n",
       "       [0.54208358],\n",
       "       [0.52295468],\n",
       "       [0.51603885],\n",
       "       [0.52118893],\n",
       "       [0.53296057],\n",
       "       [0.54090642],\n",
       "       [0.54590936],\n",
       "       [0.54561507],\n",
       "       [0.54664509],\n",
       "       [0.5509123 ],\n",
       "       [0.56121248],\n",
       "       [0.58137139],\n",
       "       [0.60314891],\n",
       "       [0.61521483],\n",
       "       [0.62316068],\n",
       "       [0.62227781],\n",
       "       [0.59593879],\n",
       "       [0.58137139],\n",
       "       [0.58048852],\n",
       "       [0.58887581],\n",
       "       [0.600206  ],\n",
       "       [0.60682755],\n",
       "       [0.62963508],\n",
       "       [0.64405533],\n",
       "       [0.65361978],\n",
       "       [0.66539141],\n",
       "       [0.67392584],\n",
       "       [0.67642731],\n",
       "       [0.67598587],\n",
       "       [0.6767216 ],\n",
       "       [0.67554444],\n",
       "       [0.67407298],\n",
       "       [0.67083579],\n",
       "       [0.65832843],\n",
       "       [0.64479105],\n",
       "       [0.62860506],\n",
       "       [0.62992937],\n",
       "       [0.63758093],\n",
       "       [0.6465568 ],\n",
       "       [0.64552678],\n",
       "       [0.63051795],\n",
       "       [0.60903473],\n",
       "       [0.61006474],\n",
       "       [0.61183049],\n",
       "       [0.61227192],\n",
       "       [0.61035903],\n",
       "       [0.60197175],\n",
       "       [0.59181872],\n",
       "       [0.58166569],\n",
       "       [0.57931136],\n",
       "       [0.58387287],\n",
       "       [0.58534432],\n",
       "       [0.58784579],\n",
       "       [0.59696881],\n",
       "       [0.60800471],\n",
       "       [0.61550912],\n",
       "       [0.62080636],\n",
       "       [0.62889935],\n",
       "       [0.64640965],\n",
       "       [0.65685697],\n",
       "       [0.65715127],\n",
       "       [0.64626251],\n",
       "       [0.63198941],\n",
       "       [0.62978222],\n",
       "       [0.63022366],\n",
       "       [0.63051795],\n",
       "       [0.63802237],\n",
       "       [0.65773985],\n",
       "       [0.6689229 ],\n",
       "       [0.67569158],\n",
       "       [0.67010006],\n",
       "       [0.67245438],\n",
       "       [0.6734844 ],\n",
       "       [0.67377869],\n",
       "       [0.67657446],\n",
       "       [0.68143025],\n",
       "       [0.68790465],\n",
       "       [0.6958505 ],\n",
       "       [0.69864626],\n",
       "       [0.69923484],\n",
       "       [0.69702766],\n",
       "       [0.68143025],\n",
       "       [0.66715715],\n",
       "       [0.66333137],\n",
       "       [0.66068275],\n",
       "       [0.66156563],\n",
       "       [0.6624485 ],\n",
       "       [0.66539141],\n",
       "       [0.67319011],\n",
       "       [0.68201883],\n",
       "       [0.69496763],\n",
       "       [0.70644497],\n",
       "       [0.72189523],\n",
       "       [0.7373455 ],\n",
       "       [0.7610359 ],\n",
       "       [0.78531489],\n",
       "       [0.79782225],\n",
       "       [0.80047087],\n",
       "       [0.79031783],\n",
       "       [0.77942908],\n",
       "       [0.77001177],\n",
       "       [0.77633902],\n",
       "       [0.78369629],\n",
       "       [0.78413773],\n",
       "       [0.78472631],\n",
       "       [0.79178929],\n",
       "       [0.79723367],\n",
       "       [0.80311948],\n",
       "       [0.80885815],\n",
       "       [0.81739258],\n",
       "       [0.82445556],\n",
       "       [0.82960565],\n",
       "       [0.82960565],\n",
       "       [0.82062978],\n",
       "       [0.82313125],\n",
       "       [0.83284285],\n",
       "       [0.83534432],\n",
       "       [0.83034138],\n",
       "       [0.82254267],\n",
       "       [0.80532666],\n",
       "       [0.78266627],\n",
       "       [0.75868158],\n",
       "       [0.73705121],\n",
       "       [0.70865215],\n",
       "       [0.68878752],\n",
       "       [0.68275456],\n",
       "       [0.67642731]])"
      ]
     },
     "execution_count": 20,
     "metadata": {},
     "output_type": "execute_result"
    }
   ],
   "source": [
    "df3"
   ]
  },
  {
   "cell_type": "code",
   "execution_count": 21,
   "id": "1a123c80",
   "metadata": {
    "id": "1a123c80"
   },
   "outputs": [],
   "source": [
    "## Train Test Split\n",
    "training_size=int(len(df3)*0.65)\n",
    "test_size=len(df3)-training_size\n",
    "train_data,test_data=df3[0:training_size,:],df3[training_size:len(df3),:1]"
   ]
  },
  {
   "cell_type": "code",
   "execution_count": 22,
   "id": "IQfKh3_yTwhE",
   "metadata": {
    "id": "IQfKh3_yTwhE"
   },
   "outputs": [
    {
     "data": {
      "text/plain": [
       "(525, 1)"
      ]
     },
     "execution_count": 22,
     "metadata": {},
     "output_type": "execute_result"
    }
   ],
   "source": [
    "train_data.shape"
   ]
  },
  {
   "cell_type": "code",
   "execution_count": 23,
   "id": "4bb6bc65-02b6-461f-997d-94f1d8548d4a",
   "metadata": {},
   "outputs": [
    {
     "data": {
      "text/plain": [
       "(284, 1)"
      ]
     },
     "execution_count": 23,
     "metadata": {},
     "output_type": "execute_result"
    }
   ],
   "source": [
    "test_data.shape"
   ]
  },
  {
   "cell_type": "markdown",
   "id": "tYDEjWEoZauH",
   "metadata": {
    "id": "tYDEjWEoZauH"
   },
   "source": [
    "### Data Preprocessing"
   ]
  },
  {
   "cell_type": "code",
   "execution_count": 24,
   "id": "0dc8a949",
   "metadata": {
    "id": "0dc8a949"
   },
   "outputs": [],
   "source": [
    "# convert an array of values into a dataset matrix\n",
    "def create_dataset(dataset, time_step=1):\n",
    "\tdataX, dataY = [], []\n",
    "\tfor i in range(len(dataset)-time_step-1):\n",
    "\t\ta = dataset[i:(i+time_step), 0]   ###i=0, 0,1,2,3-----99   100 \n",
    "\t\tdataX.append(a)\n",
    "\t\tdataY.append(dataset[i + time_step, 0])\n",
    "\treturn np.array(dataX), np.array(dataY)"
   ]
  },
  {
   "cell_type": "code",
   "execution_count": 25,
   "id": "39785275",
   "metadata": {
    "id": "39785275"
   },
   "outputs": [],
   "source": [
    "# reshape into X=t,t+1,t+2,t+3 and Y=t+4\n",
    "time_step = 100\n",
    "X_train, y_train = create_dataset(train_data, time_step)\n",
    "X_test, ytest = create_dataset(test_data, time_step)"
   ]
  },
  {
   "cell_type": "code",
   "execution_count": 26,
   "id": "mLHLpdmpcBlC",
   "metadata": {
    "id": "mLHLpdmpcBlC"
   },
   "outputs": [
    {
     "data": {
      "text/plain": [
       "array([[0.00559152, 0.00382578, 0.00309005, ..., 0.16627428, 0.16524426,\n",
       "        0.1640671 ],\n",
       "       [0.00382578, 0.00309005, 0.00206004, ..., 0.16524426, 0.1640671 ,\n",
       "        0.16274279],\n",
       "       [0.00309005, 0.00206004, 0.00103002, ..., 0.1640671 , 0.16274279,\n",
       "        0.15538552],\n",
       "       ...,\n",
       "       [0.91024132, 0.91597999, 0.90847557, ..., 0.88419659, 0.88655091,\n",
       "        0.88743378],\n",
       "       [0.91597999, 0.90847557, 0.88802237, ..., 0.88655091, 0.88743378,\n",
       "        0.87154208],\n",
       "       [0.90847557, 0.88802237, 0.88449088, ..., 0.88743378, 0.87154208,\n",
       "        0.87639788]])"
      ]
     },
     "execution_count": 26,
     "metadata": {},
     "output_type": "execute_result"
    }
   ],
   "source": [
    "X_train"
   ]
  },
  {
   "cell_type": "code",
   "execution_count": 27,
   "id": "8o7UzuZEcFhl",
   "metadata": {
    "id": "8o7UzuZEcFhl",
    "scrolled": true
   },
   "outputs": [
    {
     "data": {
      "text/plain": [
       "array([0.16274279, 0.15538552, 0.14670394, 0.14420247, 0.15862272,\n",
       "       0.16642142, 0.18422602, 0.19540906, 0.19894055, 0.21100647,\n",
       "       0.21762802, 0.22130665, 0.22748676, 0.2405827 , 0.24367275,\n",
       "       0.2532372 , 0.29664509, 0.30694526, 0.29723367, 0.28134197,\n",
       "       0.28399058, 0.29487934, 0.29326074, 0.283402  , 0.26868746,\n",
       "       0.24014126, 0.21188935, 0.19334903, 0.19334903, 0.19114185,\n",
       "       0.19643908, 0.20114773, 0.20335491, 0.21115362, 0.21777516,\n",
       "       0.22572101, 0.23057681, 0.22836963, 0.22719247, 0.22645674,\n",
       "       0.2230724 , 0.22572101, 0.23513832, 0.24941142, 0.25853443,\n",
       "       0.27310182, 0.29458505, 0.31106533, 0.32254267, 0.32739847,\n",
       "       0.32636845, 0.32210124, 0.31121248, 0.30944673, 0.31312537,\n",
       "       0.31238964, 0.30547381, 0.30988817, 0.31606828, 0.33357858,\n",
       "       0.34682166, 0.34755739, 0.35079459, 0.34741024, 0.316804  ,\n",
       "       0.29708652, 0.27472042, 0.25412007, 0.22910536, 0.20585639,\n",
       "       0.18746321, 0.18231313, 0.17216009, 0.16965862, 0.16759859,\n",
       "       0.16671572, 0.16597999, 0.1656857 , 0.16553855, 0.19467334,\n",
       "       0.19849912, 0.20144202, 0.2007063 , 0.19791054, 0.18967039,\n",
       "       0.17760447, 0.16848146, 0.16789288, 0.17525015, 0.18231313,\n",
       "       0.18922896, 0.1990877 , 0.20997646, 0.216598  , 0.22233667,\n",
       "       0.23925839, 0.24970571, 0.26162448, 0.27545615, 0.28310771,\n",
       "       0.29752796, 0.30694526, 0.31636257, 0.32298411, 0.3281342 ,\n",
       "       0.32960565, 0.32886992, 0.32857563, 0.32592702, 0.32357269,\n",
       "       0.32371984, 0.32401413, 0.32357269, 0.32283696, 0.32062978,\n",
       "       0.31047675, 0.30591524, 0.30297234, 0.30047087, 0.30076516,\n",
       "       0.30459094, 0.32636845, 0.33740436, 0.33814008, 0.3472631 ,\n",
       "       0.35388464, 0.37007063, 0.39037669, 0.4011183 , 0.4108299 ,\n",
       "       0.41745144, 0.41877575, 0.41774573, 0.41671572, 0.41862861,\n",
       "       0.42907593, 0.43569747, 0.44158328, 0.44158328, 0.43878752,\n",
       "       0.43349029, 0.43393172, 0.44791054, 0.45659211, 0.46718658,\n",
       "       0.47380812, 0.48101825, 0.48396115, 0.48602119, 0.49146557,\n",
       "       0.50559152, 0.51927604, 0.53104768, 0.54193643, 0.57018835,\n",
       "       0.59711595, 0.61536198, 0.62757504, 0.63978811, 0.65082401,\n",
       "       0.65670983, 0.66318423, 0.66553855, 0.66494997, 0.62831077,\n",
       "       0.60108888, 0.5843143 , 0.55929959, 0.55635668, 0.5590053 ,\n",
       "       0.56415539, 0.5635668 , 0.53855209, 0.52442613, 0.51854032,\n",
       "       0.48307828, 0.41862861, 0.35918187, 0.34123014, 0.31901118,\n",
       "       0.30341377, 0.27339612, 0.25397293, 0.23469688, 0.21865803,\n",
       "       0.20306062, 0.19320188, 0.16494997, 0.17377869, 0.17628016,\n",
       "       0.19437905, 0.2052678 , 0.22174809, 0.2341083 , 0.23719835,\n",
       "       0.23646263, 0.23454974, 0.23469688, 0.23469688, 0.25220718,\n",
       "       0.28708064, 0.29281931, 0.30032372, 0.30782813, 0.31474397,\n",
       "       0.32931136, 0.34329017, 0.36330194, 0.37051207, 0.38816951,\n",
       "       0.40862272, 0.42083579, 0.42804591, 0.43201883, 0.42039435,\n",
       "       0.41215421, 0.41141848, 0.41421424, 0.42377869, 0.4377575 ,\n",
       "       0.44864626, 0.45467922, 0.48028252, 0.47410241, 0.46718658,\n",
       "       0.45953502, 0.45114773, 0.44879341, 0.45423779, 0.47895821,\n",
       "       0.48881695, 0.49867569, 0.50426722, 0.50794585, 0.50882872,\n",
       "       0.50662154, 0.50456151, 0.48940553, 0.4889641 , 0.51692172,\n",
       "       0.53722778, 0.55017657, 0.5541495 , 0.55473808, 0.55532666,\n",
       "       0.55444379, 0.54958799, 0.5622425 , 0.58122425, 0.60697469,\n",
       "       0.62360212, 0.63375515, 0.66333137, 0.67289582, 0.68187169,\n",
       "       0.68834609, 0.69114185, 0.69305474, 0.69290759, 0.67274868,\n",
       "       0.65229547, 0.64729253, 0.64243673, 0.64140671, 0.64258387,\n",
       "       0.64302531, 0.63537375, 0.6274279 , 0.62389641, 0.62242496,\n",
       "       0.62007063, 0.61992348, 0.60962331, 0.59991171, 0.59417304,\n",
       "       0.59520306, 0.60108888, 0.60594467, 0.61506769, 0.62639788,\n",
       "       0.63375515, 0.64052384, 0.64699823, 0.65420836, 0.65612125,\n",
       "       0.65891701, 0.66215421, 0.68172454, 0.69849912, 0.70776928,\n",
       "       0.7243967 , 0.7451442 , 0.78266627, 0.78958211, 0.79664509,\n",
       "       0.79958799, 0.8009123 , 0.80223661, 0.80503237, 0.816804  ,\n",
       "       0.83975868, 0.85300177, 0.86668629, 0.85682755, 0.86227192,\n",
       "       0.87507357, 0.89537964, 0.90361978, 0.91347852, 0.92466157,\n",
       "       0.91509712, 0.9108299 , 0.90288405, 0.90361978, 0.90715127,\n",
       "       0.90965274, 0.89243673, 0.87139494, 0.88243084, 0.89405533,\n",
       "       0.90420836, 0.91024132, 0.91597999, 0.90847557, 0.88802237,\n",
       "       0.88449088, 0.88890524, 0.89449676, 0.90038258, 0.90406121,\n",
       "       0.89479105, 0.88669806, 0.88699235, 0.88949382, 0.89052384,\n",
       "       0.88581519, 0.87507357, 0.87065921, 0.86756916, 0.86183049,\n",
       "       0.85815185, 0.85756327, 0.85638611, 0.85623896, 0.86035903,\n",
       "       0.8693349 , 0.87566215, 0.88125368, 0.88346086, 0.89302531,\n",
       "       0.89758682, 0.91230135, 0.9283402 , 0.93716892, 0.95276633,\n",
       "       0.96041789, 0.98263685, 0.99705709, 1.        , 0.99396704,\n",
       "       0.98278399, 0.97012949, 0.94290759, 0.90582696, 0.8852266 ,\n",
       "       0.8806651 , 0.87492643, 0.850206  , 0.84373161, 0.82828134,\n",
       "       0.83652148, 0.84284873, 0.8534432 , 0.86183049, 0.87080636,\n",
       "       0.88375515, 0.90509123, 0.92539729, 0.93908181, 0.95203061,\n",
       "       0.95953502, 0.96130077, 0.94496763, 0.94217187, 0.94379046,\n",
       "       0.94290759, 0.92363155, 0.91553855, 0.89582107, 0.88802237,\n",
       "       0.88537375, 0.86580341, 0.85844614, 0.85005886, 0.84961742,\n",
       "       0.84917599, 0.84829311, 0.85035315, 0.8534432 , 0.86433196,\n",
       "       0.88537375, 0.9027369 , 0.9218658 , 0.94599765, 0.96027075,\n",
       "       0.96806945, 0.93246027, 0.92525015, 0.9283402 , 0.92848735,\n",
       "       0.92554444, 0.90450265, 0.88949382, 0.87124779, 0.86683343,\n",
       "       0.86756916, 0.87448499, 0.88037081, 0.88419659, 0.88655091,\n",
       "       0.88743378, 0.87154208, 0.87639788, 0.89376104])"
      ]
     },
     "execution_count": 27,
     "metadata": {},
     "output_type": "execute_result"
    }
   ],
   "source": [
    "y_train"
   ]
  },
  {
   "cell_type": "code",
   "execution_count": 28,
   "id": "005e586d",
   "metadata": {
    "id": "005e586d"
   },
   "outputs": [
    {
     "data": {
      "text/plain": [
       "(424, 100)"
      ]
     },
     "execution_count": 28,
     "metadata": {},
     "output_type": "execute_result"
    }
   ],
   "source": [
    "X_train.shape"
   ]
  },
  {
   "cell_type": "code",
   "execution_count": 29,
   "id": "4008312d-fe15-42ad-b271-5f91ecee4c00",
   "metadata": {},
   "outputs": [
    {
     "data": {
      "text/plain": [
       "(424,)"
      ]
     },
     "execution_count": 29,
     "metadata": {},
     "output_type": "execute_result"
    }
   ],
   "source": [
    "y_train.shape"
   ]
  },
  {
   "cell_type": "markdown",
   "id": "bJLSlRVajL9P",
   "metadata": {
    "id": "bJLSlRVajL9P"
   },
   "source": [
    "# LSTM "
   ]
  },
  {
   "cell_type": "code",
   "execution_count": 30,
   "id": "5a9aae2a",
   "metadata": {
    "id": "5a9aae2a"
   },
   "outputs": [],
   "source": [
    "X_train =X_train.reshape(X_train.shape[0],X_train.shape[1] , 1)\n",
    "X_test = X_test.reshape(X_test.shape[0],X_test.shape[1] , 1)"
   ]
  },
  {
   "cell_type": "code",
   "execution_count": 31,
   "id": "e86cac48-0647-4fa6-b234-708dd83e6026",
   "metadata": {},
   "outputs": [
    {
     "name": "stdout",
     "output_type": "stream",
     "text": [
      "WARNING:tensorflow:From c:\\Users\\Admin\\AppData\\Local\\Programs\\Python\\Python311\\Lib\\site-packages\\keras\\src\\losses.py:2976: The name tf.losses.sparse_softmax_cross_entropy is deprecated. Please use tf.compat.v1.losses.sparse_softmax_cross_entropy instead.\n",
      "\n",
      "2.15.0\n"
     ]
    }
   ],
   "source": [
    "import tensorflow as tf\n",
    "print(tf.__version__)"
   ]
  },
  {
   "cell_type": "code",
   "execution_count": 32,
   "id": "869c9a75",
   "metadata": {
    "id": "869c9a75"
   },
   "outputs": [
    {
     "name": "stdout",
     "output_type": "stream",
     "text": [
      "WARNING:tensorflow:From c:\\Users\\Admin\\AppData\\Local\\Programs\\Python\\Python311\\Lib\\site-packages\\keras\\src\\backend.py:873: The name tf.get_default_graph is deprecated. Please use tf.compat.v1.get_default_graph instead.\n",
      "\n",
      "WARNING:tensorflow:From c:\\Users\\Admin\\AppData\\Local\\Programs\\Python\\Python311\\Lib\\site-packages\\keras\\src\\optimizers\\__init__.py:309: The name tf.train.Optimizer is deprecated. Please use tf.compat.v1.train.Optimizer instead.\n",
      "\n"
     ]
    }
   ],
   "source": [
    "from tensorflow.keras.models import Sequential\n",
    "\n",
    "from tensorflow.keras.layers import Dense\n",
    "from tensorflow.keras.layers import LSTM\n",
    "model=Sequential()\n",
    "model.add(LSTM(50,return_sequences=True,input_shape=(100,1)))\n",
    "model.add(LSTM(50,return_sequences=True))\n",
    "model.add(LSTM(50))\n",
    "model.add(Dense(1))\n",
    "model.compile(loss='mean_squared_error',optimizer='adam')"
   ]
  },
  {
   "cell_type": "code",
   "execution_count": 33,
   "id": "baa8cd08",
   "metadata": {
    "id": "baa8cd08"
   },
   "outputs": [
    {
     "name": "stdout",
     "output_type": "stream",
     "text": [
      "Epoch 1/100\n",
      "WARNING:tensorflow:From c:\\Users\\Admin\\AppData\\Local\\Programs\\Python\\Python311\\Lib\\site-packages\\keras\\src\\utils\\tf_utils.py:492: The name tf.ragged.RaggedTensorValue is deprecated. Please use tf.compat.v1.ragged.RaggedTensorValue instead.\n",
      "\n",
      "7/7 [==============================] - 13s 505ms/step - loss: 0.2346 - val_loss: 0.0047\n",
      "Epoch 2/100\n",
      "7/7 [==============================] - 1s 168ms/step - loss: 0.0319 - val_loss: 0.0077\n",
      "Epoch 3/100\n",
      "7/7 [==============================] - 1s 166ms/step - loss: 0.0241 - val_loss: 0.0084\n",
      "Epoch 4/100\n",
      "7/7 [==============================] - 1s 171ms/step - loss: 0.0122 - val_loss: 0.0128\n",
      "Epoch 5/100\n",
      "7/7 [==============================] - 1s 168ms/step - loss: 0.0113 - val_loss: 0.0045\n",
      "Epoch 6/100\n",
      "7/7 [==============================] - 1s 165ms/step - loss: 0.0089 - val_loss: 0.0037\n",
      "Epoch 7/100\n",
      "7/7 [==============================] - 1s 165ms/step - loss: 0.0072 - val_loss: 0.0034\n",
      "Epoch 8/100\n",
      "7/7 [==============================] - 1s 167ms/step - loss: 0.0064 - val_loss: 0.0031\n",
      "Epoch 9/100\n",
      "7/7 [==============================] - 1s 167ms/step - loss: 0.0059 - val_loss: 0.0033\n",
      "Epoch 10/100\n",
      "7/7 [==============================] - 1s 167ms/step - loss: 0.0059 - val_loss: 0.0030\n",
      "Epoch 11/100\n",
      "7/7 [==============================] - 1s 166ms/step - loss: 0.0058 - val_loss: 0.0030\n",
      "Epoch 12/100\n",
      "7/7 [==============================] - 1s 166ms/step - loss: 0.0057 - val_loss: 0.0029\n",
      "Epoch 13/100\n",
      "7/7 [==============================] - 1s 181ms/step - loss: 0.0055 - val_loss: 0.0028\n",
      "Epoch 14/100\n",
      "7/7 [==============================] - 1s 168ms/step - loss: 0.0055 - val_loss: 0.0032\n",
      "Epoch 15/100\n",
      "7/7 [==============================] - 1s 168ms/step - loss: 0.0054 - val_loss: 0.0027\n",
      "Epoch 16/100\n",
      "7/7 [==============================] - 1s 169ms/step - loss: 0.0051 - val_loss: 0.0027\n",
      "Epoch 17/100\n",
      "7/7 [==============================] - 1s 169ms/step - loss: 0.0050 - val_loss: 0.0026\n",
      "Epoch 18/100\n",
      "7/7 [==============================] - 1s 168ms/step - loss: 0.0049 - val_loss: 0.0026\n",
      "Epoch 19/100\n",
      "7/7 [==============================] - 1s 170ms/step - loss: 0.0047 - val_loss: 0.0025\n",
      "Epoch 20/100\n",
      "7/7 [==============================] - 1s 168ms/step - loss: 0.0046 - val_loss: 0.0024\n",
      "Epoch 21/100\n",
      "7/7 [==============================] - 1s 169ms/step - loss: 0.0045 - val_loss: 0.0023\n",
      "Epoch 22/100\n",
      "7/7 [==============================] - 1s 167ms/step - loss: 0.0045 - val_loss: 0.0023\n",
      "Epoch 23/100\n",
      "7/7 [==============================] - 1s 168ms/step - loss: 0.0045 - val_loss: 0.0023\n",
      "Epoch 24/100\n",
      "7/7 [==============================] - 1s 167ms/step - loss: 0.0042 - val_loss: 0.0024\n",
      "Epoch 25/100\n",
      "7/7 [==============================] - 1s 170ms/step - loss: 0.0041 - val_loss: 0.0021\n",
      "Epoch 26/100\n",
      "7/7 [==============================] - 1s 167ms/step - loss: 0.0039 - val_loss: 0.0020\n",
      "Epoch 27/100\n",
      "7/7 [==============================] - 1s 167ms/step - loss: 0.0037 - val_loss: 0.0020\n",
      "Epoch 28/100\n",
      "7/7 [==============================] - 1s 184ms/step - loss: 0.0036 - val_loss: 0.0019\n",
      "Epoch 29/100\n",
      "7/7 [==============================] - 1s 167ms/step - loss: 0.0036 - val_loss: 0.0018\n",
      "Epoch 30/100\n",
      "7/7 [==============================] - 1s 164ms/step - loss: 0.0036 - val_loss: 0.0019\n",
      "Epoch 31/100\n",
      "7/7 [==============================] - 1s 166ms/step - loss: 0.0036 - val_loss: 0.0026\n",
      "Epoch 32/100\n",
      "7/7 [==============================] - 1s 165ms/step - loss: 0.0034 - val_loss: 0.0027\n",
      "Epoch 33/100\n",
      "7/7 [==============================] - 1s 164ms/step - loss: 0.0034 - val_loss: 0.0019\n",
      "Epoch 34/100\n",
      "7/7 [==============================] - 1s 166ms/step - loss: 0.0032 - val_loss: 0.0018\n",
      "Epoch 35/100\n",
      "7/7 [==============================] - 1s 165ms/step - loss: 0.0031 - val_loss: 0.0017\n",
      "Epoch 36/100\n",
      "7/7 [==============================] - 1s 168ms/step - loss: 0.0030 - val_loss: 0.0017\n",
      "Epoch 37/100\n",
      "7/7 [==============================] - 1s 166ms/step - loss: 0.0030 - val_loss: 0.0015\n",
      "Epoch 38/100\n",
      "7/7 [==============================] - 1s 163ms/step - loss: 0.0030 - val_loss: 0.0015\n",
      "Epoch 39/100\n",
      "7/7 [==============================] - 1s 162ms/step - loss: 0.0028 - val_loss: 0.0015\n",
      "Epoch 40/100\n",
      "7/7 [==============================] - 1s 164ms/step - loss: 0.0026 - val_loss: 0.0014\n",
      "Epoch 41/100\n",
      "7/7 [==============================] - 1s 181ms/step - loss: 0.0025 - val_loss: 0.0015\n",
      "Epoch 42/100\n",
      "7/7 [==============================] - 1s 164ms/step - loss: 0.0025 - val_loss: 0.0015\n",
      "Epoch 43/100\n",
      "7/7 [==============================] - 1s 164ms/step - loss: 0.0026 - val_loss: 0.0013\n",
      "Epoch 44/100\n",
      "7/7 [==============================] - 1s 165ms/step - loss: 0.0027 - val_loss: 0.0020\n",
      "Epoch 45/100\n",
      "7/7 [==============================] - 1s 167ms/step - loss: 0.0028 - val_loss: 0.0014\n",
      "Epoch 46/100\n",
      "7/7 [==============================] - 1s 166ms/step - loss: 0.0024 - val_loss: 0.0014\n",
      "Epoch 47/100\n",
      "7/7 [==============================] - 1s 162ms/step - loss: 0.0022 - val_loss: 0.0016\n",
      "Epoch 48/100\n",
      "7/7 [==============================] - 1s 166ms/step - loss: 0.0021 - val_loss: 0.0028\n",
      "Epoch 49/100\n",
      "7/7 [==============================] - 1s 165ms/step - loss: 0.0024 - val_loss: 0.0027\n",
      "Epoch 50/100\n",
      "7/7 [==============================] - 1s 167ms/step - loss: 0.0022 - val_loss: 0.0018\n",
      "Epoch 51/100\n",
      "7/7 [==============================] - 1s 168ms/step - loss: 0.0020 - val_loss: 0.0016\n",
      "Epoch 52/100\n",
      "7/7 [==============================] - 1s 162ms/step - loss: 0.0018 - val_loss: 0.0015\n",
      "Epoch 53/100\n",
      "7/7 [==============================] - 1s 163ms/step - loss: 0.0019 - val_loss: 0.0019\n",
      "Epoch 54/100\n",
      "7/7 [==============================] - 1s 163ms/step - loss: 0.0018 - val_loss: 0.0015\n",
      "Epoch 55/100\n",
      "7/7 [==============================] - 1s 179ms/step - loss: 0.0017 - val_loss: 0.0018\n",
      "Epoch 56/100\n",
      "7/7 [==============================] - 1s 164ms/step - loss: 0.0017 - val_loss: 0.0017\n",
      "Epoch 57/100\n",
      "7/7 [==============================] - 1s 163ms/step - loss: 0.0016 - val_loss: 0.0013\n",
      "Epoch 58/100\n",
      "7/7 [==============================] - 1s 162ms/step - loss: 0.0015 - val_loss: 0.0011\n",
      "Epoch 59/100\n",
      "7/7 [==============================] - 1s 165ms/step - loss: 0.0015 - val_loss: 0.0010\n",
      "Epoch 60/100\n",
      "7/7 [==============================] - 1s 165ms/step - loss: 0.0015 - val_loss: 0.0011\n",
      "Epoch 61/100\n",
      "7/7 [==============================] - 1s 166ms/step - loss: 0.0014 - val_loss: 0.0010\n",
      "Epoch 62/100\n",
      "7/7 [==============================] - 1s 163ms/step - loss: 0.0014 - val_loss: 0.0010\n",
      "Epoch 63/100\n",
      "7/7 [==============================] - 1s 164ms/step - loss: 0.0013 - val_loss: 0.0012\n",
      "Epoch 64/100\n",
      "7/7 [==============================] - 1s 166ms/step - loss: 0.0013 - val_loss: 0.0010\n",
      "Epoch 65/100\n",
      "7/7 [==============================] - 1s 163ms/step - loss: 0.0013 - val_loss: 9.8878e-04\n",
      "Epoch 66/100\n",
      "7/7 [==============================] - 1s 165ms/step - loss: 0.0012 - val_loss: 0.0011\n",
      "Epoch 67/100\n",
      "7/7 [==============================] - 1s 163ms/step - loss: 0.0012 - val_loss: 0.0014\n",
      "Epoch 68/100\n",
      "7/7 [==============================] - 1s 180ms/step - loss: 0.0013 - val_loss: 0.0011\n",
      "Epoch 69/100\n",
      "7/7 [==============================] - 1s 162ms/step - loss: 0.0012 - val_loss: 9.6192e-04\n",
      "Epoch 70/100\n",
      "7/7 [==============================] - 1s 163ms/step - loss: 0.0014 - val_loss: 0.0011\n",
      "Epoch 71/100\n",
      "7/7 [==============================] - 1s 163ms/step - loss: 0.0012 - val_loss: 9.1633e-04\n",
      "Epoch 72/100\n",
      "7/7 [==============================] - 1s 164ms/step - loss: 0.0011 - val_loss: 9.4801e-04\n",
      "Epoch 73/100\n",
      "7/7 [==============================] - 1s 166ms/step - loss: 0.0012 - val_loss: 0.0010\n",
      "Epoch 74/100\n",
      "7/7 [==============================] - 1s 163ms/step - loss: 0.0012 - val_loss: 0.0011\n",
      "Epoch 75/100\n",
      "7/7 [==============================] - 1s 167ms/step - loss: 0.0011 - val_loss: 9.9576e-04\n",
      "Epoch 76/100\n",
      "7/7 [==============================] - 1s 164ms/step - loss: 0.0012 - val_loss: 0.0010\n",
      "Epoch 77/100\n",
      "7/7 [==============================] - 1s 166ms/step - loss: 0.0011 - val_loss: 9.2822e-04\n",
      "Epoch 78/100\n",
      "7/7 [==============================] - 1s 164ms/step - loss: 0.0011 - val_loss: 9.6976e-04\n",
      "Epoch 79/100\n",
      "7/7 [==============================] - 1s 162ms/step - loss: 0.0011 - val_loss: 8.6211e-04\n",
      "Epoch 80/100\n",
      "7/7 [==============================] - 1s 176ms/step - loss: 0.0010 - val_loss: 8.6555e-04\n",
      "Epoch 81/100\n",
      "7/7 [==============================] - 1s 165ms/step - loss: 9.8134e-04 - val_loss: 8.4879e-04\n",
      "Epoch 82/100\n",
      "7/7 [==============================] - 1s 166ms/step - loss: 0.0011 - val_loss: 9.7935e-04\n",
      "Epoch 83/100\n",
      "7/7 [==============================] - 1s 165ms/step - loss: 0.0011 - val_loss: 8.8729e-04\n",
      "Epoch 84/100\n",
      "7/7 [==============================] - 1s 165ms/step - loss: 0.0010 - val_loss: 8.8569e-04\n",
      "Epoch 85/100\n",
      "7/7 [==============================] - 1s 164ms/step - loss: 0.0011 - val_loss: 9.9433e-04\n",
      "Epoch 86/100\n",
      "7/7 [==============================] - 1s 164ms/step - loss: 9.5893e-04 - val_loss: 0.0011\n",
      "Epoch 87/100\n",
      "7/7 [==============================] - 1s 164ms/step - loss: 9.6037e-04 - val_loss: 8.3812e-04\n",
      "Epoch 88/100\n",
      "7/7 [==============================] - 1s 165ms/step - loss: 9.6533e-04 - val_loss: 8.1889e-04\n",
      "Epoch 89/100\n",
      "7/7 [==============================] - 1s 166ms/step - loss: 9.2158e-04 - val_loss: 9.3656e-04\n",
      "Epoch 90/100\n",
      "7/7 [==============================] - 1s 165ms/step - loss: 9.6583e-04 - val_loss: 8.4123e-04\n",
      "Epoch 91/100\n",
      "7/7 [==============================] - 1s 166ms/step - loss: 0.0011 - val_loss: 8.1054e-04\n",
      "Epoch 92/100\n",
      "7/7 [==============================] - 1s 170ms/step - loss: 0.0010 - val_loss: 0.0016\n",
      "Epoch 93/100\n",
      "7/7 [==============================] - 1s 165ms/step - loss: 0.0010 - val_loss: 8.2861e-04\n",
      "Epoch 94/100\n",
      "7/7 [==============================] - 1s 166ms/step - loss: 8.9956e-04 - val_loss: 8.2800e-04\n",
      "Epoch 95/100\n",
      "7/7 [==============================] - 1s 174ms/step - loss: 8.7129e-04 - val_loss: 7.8054e-04\n",
      "Epoch 96/100\n",
      "7/7 [==============================] - 1s 166ms/step - loss: 8.6328e-04 - val_loss: 8.0985e-04\n",
      "Epoch 97/100\n",
      "7/7 [==============================] - 1s 168ms/step - loss: 8.8403e-04 - val_loss: 0.0011\n",
      "Epoch 98/100\n",
      "7/7 [==============================] - 1s 167ms/step - loss: 9.3269e-04 - val_loss: 7.8628e-04\n",
      "Epoch 99/100\n",
      "7/7 [==============================] - 1s 168ms/step - loss: 8.3437e-04 - val_loss: 8.4090e-04\n",
      "Epoch 100/100\n",
      "7/7 [==============================] - 1s 166ms/step - loss: 8.2137e-04 - val_loss: 7.7572e-04\n"
     ]
    },
    {
     "data": {
      "text/plain": [
       "<keras.src.callbacks.History at 0x2a00c235690>"
      ]
     },
     "execution_count": 33,
     "metadata": {},
     "output_type": "execute_result"
    }
   ],
   "source": [
    "model.fit(X_train,y_train,validation_data=(X_test,ytest),epochs=100,batch_size=64,verbose=1)"
   ]
  },
  {
   "cell_type": "code",
   "execution_count": 34,
   "id": "62dabcc0",
   "metadata": {
    "id": "62dabcc0"
   },
   "outputs": [
    {
     "name": "stdout",
     "output_type": "stream",
     "text": [
      "14/14 [==============================] - 3s 46ms/step\n",
      "6/6 [==============================] - 0s 46ms/step\n"
     ]
    }
   ],
   "source": [
    "### Lets Do the prediction and check performance metrics\n",
    "train_predict=model.predict(X_train)\n",
    "test_predict=model.predict(X_test)"
   ]
  },
  {
   "cell_type": "code",
   "execution_count": 35,
   "id": "b9fccd41",
   "metadata": {
    "id": "b9fccd41"
   },
   "outputs": [],
   "source": [
    "##Transformback to original form\n",
    "train_predict=scaler.inverse_transform(train_predict)\n",
    "test_predict=scaler.inverse_transform(test_predict)"
   ]
  },
  {
   "cell_type": "code",
   "execution_count": 37,
   "id": "be5b24de",
   "metadata": {
    "id": "be5b24de"
   },
   "outputs": [
    {
     "data": {
      "image/png": "[encoded data removed]",
      "text/plain": [
       "<Figure size 640x480 with 1 Axes>"
      ]
     },
     "metadata": {},
     "output_type": "display_data"
    }
   ],
   "source": [
    "### Plotting \n",
    "# shift train predictions for plotting\n",
    "look_back=100\n",
    "trainPredictPlot = np.empty_like(df3)\n",
    "trainPredictPlot[:, :] = np.nan\n",
    "trainPredictPlot[look_back:len(train_predict)+look_back, :] = train_predict\n",
    "# shift test predictions for plotting\n",
    "testPredictPlot = np.empty_like(df3)\n",
    "testPredictPlot[:, :] = np.nan\n",
    "testPredictPlot[len(train_predict)+(look_back*2)+1:len(df3)-1, :] = test_predict\n",
    "# plot baseline and predictions\n",
    "plt.plot(scaler.inverse_transform(df3))\n",
    "plt.plot(trainPredictPlot)\n",
    "plt.plot(testPredictPlot)\n",
    "plt.show()"
   ]
  },
  {
   "cell_type": "code",
   "execution_count": 38,
   "id": "7b036aac",
   "metadata": {
    "id": "7b036aac"
   },
   "outputs": [
    {
     "data": {
      "text/html": [
       "<div>\n",
       "<style scoped>\n",
       "    .dataframe tbody tr th:only-of-type {\n",
       "        vertical-align: middle;\n",
       "    }\n",
       "\n",
       "    .dataframe tbody tr th {\n",
       "        vertical-align: top;\n",
       "    }\n",
       "\n",
       "    .dataframe thead th {\n",
       "        text-align: right;\n",
       "    }\n",
       "</style>\n",
       "<table border=\"1\" class=\"dataframe\">\n",
       "  <thead>\n",
       "    <tr style=\"text-align: right;\">\n",
       "      <th></th>\n",
       "      <th>Date</th>\n",
       "      <th>Prediction</th>\n",
       "    </tr>\n",
       "  </thead>\n",
       "  <tbody>\n",
       "    <tr>\n",
       "      <th>0</th>\n",
       "      <td>1/1/2019</td>\n",
       "      <td>NaN</td>\n",
       "    </tr>\n",
       "    <tr>\n",
       "      <th>1</th>\n",
       "      <td>1/2/2019</td>\n",
       "      <td>NaN</td>\n",
       "    </tr>\n",
       "    <tr>\n",
       "      <th>2</th>\n",
       "      <td>1/3/2019</td>\n",
       "      <td>NaN</td>\n",
       "    </tr>\n",
       "    <tr>\n",
       "      <th>3</th>\n",
       "      <td>1/4/2019</td>\n",
       "      <td>NaN</td>\n",
       "    </tr>\n",
       "    <tr>\n",
       "      <th>4</th>\n",
       "      <td>1/5/2019</td>\n",
       "      <td>NaN</td>\n",
       "    </tr>\n",
       "  </tbody>\n",
       "</table>\n",
       "</div>"
      ],
      "text/plain": [
       "       Date  Prediction\n",
       "0  1/1/2019         NaN\n",
       "1  1/2/2019         NaN\n",
       "2  1/3/2019         NaN\n",
       "3  1/4/2019         NaN\n",
       "4  1/5/2019         NaN"
      ]
     },
     "execution_count": 38,
     "metadata": {},
     "output_type": "execute_result"
    }
   ],
   "source": [
    "df_test=pd.read_csv(\"test_data.csv\")\n",
    "df_test.head()"
   ]
  },
  {
   "cell_type": "markdown",
   "id": "hpAqppG-OFe7",
   "metadata": {
    "id": "hpAqppG-OFe7"
   },
   "source": [
    "## **Using ARIMA**"
   ]
  },
  {
   "cell_type": "code",
   "execution_count": 40,
   "id": "ajeghoPZDx7C",
   "metadata": {
    "id": "ajeghoPZDx7C"
   },
   "outputs": [],
   "source": [
    "import pandas as pd\n",
    "from statsmodels.tsa.arima.model import ARIMA\n",
    "from matplotlib import pyplot as plt\n",
    "from pandas import read_csv\n",
    "from matplotlib import pyplot\n",
    "from pmdarima import auto_arima\n",
    "\n",
    "from sklearn.metrics import mean_squared_error\n",
    "from math import sqrt"
   ]
  },
  {
   "cell_type": "code",
   "execution_count": 41,
   "id": "ZWaJ03yno2SX",
   "metadata": {
    "id": "ZWaJ03yno2SX"
   },
   "outputs": [
    {
     "data": {
      "text/html": [
       "<div>\n",
       "<style scoped>\n",
       "    .dataframe tbody tr th:only-of-type {\n",
       "        vertical-align: middle;\n",
       "    }\n",
       "\n",
       "    .dataframe tbody tr th {\n",
       "        vertical-align: top;\n",
       "    }\n",
       "\n",
       "    .dataframe thead th {\n",
       "        text-align: right;\n",
       "    }\n",
       "</style>\n",
       "<table border=\"1\" class=\"dataframe\">\n",
       "  <thead>\n",
       "    <tr style=\"text-align: right;\">\n",
       "      <th></th>\n",
       "      <th>Date</th>\n",
       "      <th>Petrol (USD)</th>\n",
       "    </tr>\n",
       "  </thead>\n",
       "  <tbody>\n",
       "    <tr>\n",
       "      <th>0</th>\n",
       "      <td>6/9/2003</td>\n",
       "      <td>74.59</td>\n",
       "    </tr>\n",
       "    <tr>\n",
       "      <th>1</th>\n",
       "      <td>6/16/2003</td>\n",
       "      <td>74.47</td>\n",
       "    </tr>\n",
       "    <tr>\n",
       "      <th>2</th>\n",
       "      <td>6/23/2003</td>\n",
       "      <td>74.42</td>\n",
       "    </tr>\n",
       "    <tr>\n",
       "      <th>3</th>\n",
       "      <td>6/30/2003</td>\n",
       "      <td>74.35</td>\n",
       "    </tr>\n",
       "    <tr>\n",
       "      <th>4</th>\n",
       "      <td>7/7/2003</td>\n",
       "      <td>74.28</td>\n",
       "    </tr>\n",
       "  </tbody>\n",
       "</table>\n",
       "</div>"
      ],
      "text/plain": [
       "        Date  Petrol (USD)\n",
       "0   6/9/2003         74.59\n",
       "1  6/16/2003         74.47\n",
       "2  6/23/2003         74.42\n",
       "3  6/30/2003         74.35\n",
       "4   7/7/2003         74.28"
      ]
     },
     "execution_count": 41,
     "metadata": {},
     "output_type": "execute_result"
    }
   ],
   "source": [
    "df = pd.read_csv(\"train_data.csv\")\n",
    "df.head()"
   ]
  },
  {
   "cell_type": "code",
   "execution_count": 42,
   "id": "9iVm6Jl1pruM",
   "metadata": {
    "id": "9iVm6Jl1pruM"
   },
   "outputs": [
    {
     "data": {
      "text/html": [
       "<div>\n",
       "<style scoped>\n",
       "    .dataframe tbody tr th:only-of-type {\n",
       "        vertical-align: middle;\n",
       "    }\n",
       "\n",
       "    .dataframe tbody tr th {\n",
       "        vertical-align: top;\n",
       "    }\n",
       "\n",
       "    .dataframe thead th {\n",
       "        text-align: right;\n",
       "    }\n",
       "</style>\n",
       "<table border=\"1\" class=\"dataframe\">\n",
       "  <thead>\n",
       "    <tr style=\"text-align: right;\">\n",
       "      <th></th>\n",
       "      <th>Date</th>\n",
       "      <th>Petrol</th>\n",
       "    </tr>\n",
       "  </thead>\n",
       "  <tbody>\n",
       "    <tr>\n",
       "      <th>0</th>\n",
       "      <td>6/9/2003</td>\n",
       "      <td>74.59</td>\n",
       "    </tr>\n",
       "    <tr>\n",
       "      <th>1</th>\n",
       "      <td>6/16/2003</td>\n",
       "      <td>74.47</td>\n",
       "    </tr>\n",
       "    <tr>\n",
       "      <th>2</th>\n",
       "      <td>6/23/2003</td>\n",
       "      <td>74.42</td>\n",
       "    </tr>\n",
       "    <tr>\n",
       "      <th>3</th>\n",
       "      <td>6/30/2003</td>\n",
       "      <td>74.35</td>\n",
       "    </tr>\n",
       "    <tr>\n",
       "      <th>4</th>\n",
       "      <td>7/7/2003</td>\n",
       "      <td>74.28</td>\n",
       "    </tr>\n",
       "  </tbody>\n",
       "</table>\n",
       "</div>"
      ],
      "text/plain": [
       "        Date  Petrol\n",
       "0   6/9/2003   74.59\n",
       "1  6/16/2003   74.47\n",
       "2  6/23/2003   74.42\n",
       "3  6/30/2003   74.35\n",
       "4   7/7/2003   74.28"
      ]
     },
     "execution_count": 42,
     "metadata": {},
     "output_type": "execute_result"
    }
   ],
   "source": [
    "df.rename(columns={\"Petrol (USD)\": \"Petrol\"}, inplace = True)\n",
    "df.head()"
   ]
  },
  {
   "cell_type": "code",
   "execution_count": 43,
   "id": "nCDqO0KUD2Tq",
   "metadata": {
    "id": "nCDqO0KUD2Tq"
   },
   "outputs": [
    {
     "data": {
      "text/html": [
       "<div>\n",
       "<style scoped>\n",
       "    .dataframe tbody tr th:only-of-type {\n",
       "        vertical-align: middle;\n",
       "    }\n",
       "\n",
       "    .dataframe tbody tr th {\n",
       "        vertical-align: top;\n",
       "    }\n",
       "\n",
       "    .dataframe thead th {\n",
       "        text-align: right;\n",
       "    }\n",
       "</style>\n",
       "<table border=\"1\" class=\"dataframe\">\n",
       "  <thead>\n",
       "    <tr style=\"text-align: right;\">\n",
       "      <th></th>\n",
       "      <th>Date</th>\n",
       "      <th>Petrol</th>\n",
       "    </tr>\n",
       "  </thead>\n",
       "  <tbody>\n",
       "    <tr>\n",
       "      <th>0</th>\n",
       "      <td>6/9/2003</td>\n",
       "      <td>74.59</td>\n",
       "    </tr>\n",
       "    <tr>\n",
       "      <th>1</th>\n",
       "      <td>6/16/2003</td>\n",
       "      <td>74.47</td>\n",
       "    </tr>\n",
       "    <tr>\n",
       "      <th>2</th>\n",
       "      <td>6/23/2003</td>\n",
       "      <td>74.42</td>\n",
       "    </tr>\n",
       "    <tr>\n",
       "      <th>3</th>\n",
       "      <td>6/30/2003</td>\n",
       "      <td>74.35</td>\n",
       "    </tr>\n",
       "    <tr>\n",
       "      <th>4</th>\n",
       "      <td>7/7/2003</td>\n",
       "      <td>74.28</td>\n",
       "    </tr>\n",
       "  </tbody>\n",
       "</table>\n",
       "</div>"
      ],
      "text/plain": [
       "        Date  Petrol\n",
       "0   6/9/2003   74.59\n",
       "1  6/16/2003   74.47\n",
       "2  6/23/2003   74.42\n",
       "3  6/30/2003   74.35\n",
       "4   7/7/2003   74.28"
      ]
     },
     "execution_count": 43,
     "metadata": {},
     "output_type": "execute_result"
    }
   ],
   "source": [
    "df2 = df.dropna()\n",
    "df3=df2[df2.Petrol<160]\n",
    "df3.head()"
   ]
  },
  {
   "cell_type": "code",
   "execution_count": 44,
   "id": "rgmu2cLaqDCE",
   "metadata": {
    "id": "rgmu2cLaqDCE"
   },
   "outputs": [
    {
     "data": {
      "text/plain": [
       "0    74.59\n",
       "1    74.47\n",
       "2    74.42\n",
       "3    74.35\n",
       "4    74.28\n",
       "Name: Petrol, dtype: float64"
      ]
     },
     "execution_count": 44,
     "metadata": {},
     "output_type": "execute_result"
    }
   ],
   "source": [
    "df4=df3.reset_index()['Petrol']\n",
    "df4.head()"
   ]
  },
  {
   "cell_type": "code",
   "execution_count": 45,
   "id": "7751457b-37fe-4011-b22f-fd8a16e8d895",
   "metadata": {
    "scrolled": true
   },
   "outputs": [
    {
     "name": "stdout",
     "output_type": "stream",
     "text": [
      "Performing stepwise search to minimize aic\n",
      " ARIMA(2,1,2)(1,0,1)[12] intercept   : AIC=1555.721, Time=1.68 sec\n",
      " ARIMA(0,1,0)(0,0,0)[12] intercept   : AIC=1984.732, Time=0.14 sec\n",
      " ARIMA(1,1,0)(1,0,0)[12] intercept   : AIC=1551.382, Time=0.37 sec\n",
      " ARIMA(0,1,1)(0,0,1)[12] intercept   : AIC=1669.288, Time=0.38 sec\n",
      " ARIMA(0,1,0)(0,0,0)[12]             : AIC=1986.509, Time=0.01 sec\n",
      " ARIMA(1,1,0)(0,0,0)[12] intercept   : AIC=1549.388, Time=0.10 sec\n",
      " ARIMA(1,1,0)(0,0,1)[12] intercept   : AIC=1551.382, Time=0.32 sec\n",
      " ARIMA(1,1,0)(1,0,1)[12] intercept   : AIC=1553.246, Time=0.80 sec\n",
      " ARIMA(2,1,0)(0,0,0)[12] intercept   : AIC=1551.324, Time=0.17 sec\n",
      " ARIMA(1,1,1)(0,0,0)[12] intercept   : AIC=1551.308, Time=0.17 sec\n",
      " ARIMA(0,1,1)(0,0,0)[12] intercept   : AIC=1667.530, Time=0.13 sec\n",
      " ARIMA(2,1,1)(0,0,0)[12] intercept   : AIC=1551.058, Time=0.70 sec\n",
      " ARIMA(1,1,0)(0,0,0)[12]             : AIC=1548.160, Time=0.05 sec\n",
      " ARIMA(1,1,0)(1,0,0)[12]             : AIC=1550.148, Time=0.15 sec\n",
      " ARIMA(1,1,0)(0,0,1)[12]             : AIC=1550.147, Time=0.15 sec\n",
      " ARIMA(1,1,0)(1,0,1)[12]             : AIC=1551.999, Time=0.46 sec\n",
      " ARIMA(2,1,0)(0,0,0)[12]             : AIC=1550.080, Time=0.08 sec\n",
      " ARIMA(1,1,1)(0,0,0)[12]             : AIC=1550.060, Time=0.10 sec\n",
      " ARIMA(0,1,1)(0,0,0)[12]             : AIC=1667.839, Time=0.10 sec\n",
      " ARIMA(2,1,1)(0,0,0)[12]             : AIC=1549.843, Time=0.42 sec\n",
      "\n",
      "Best model:  ARIMA(1,1,0)(0,0,0)[12]          \n",
      "Total fit time: 6.554 seconds\n",
      "                               SARIMAX Results                                \n",
      "==============================================================================\n",
      "Dep. Variable:                      y   No. Observations:                  809\n",
      "Model:               SARIMAX(1, 1, 0)   Log Likelihood                -772.080\n",
      "Date:                Sun, 23 Jun 2024   AIC                           1548.160\n",
      "Time:                        12:17:59   BIC                           1557.549\n",
      "Sample:                             0   HQIC                          1551.765\n",
      "                                - 809                                         \n",
      "Covariance Type:                  opg                                         \n",
      "==============================================================================\n",
      "                 coef    std err          z      P>|z|      [0.025      0.975]\n",
      "------------------------------------------------------------------------------\n",
      "ar.L1          0.6478      0.018     36.691      0.000       0.613       0.682\n",
      "sigma2         0.3956      0.010     41.155      0.000       0.377       0.414\n",
      "===================================================================================\n",
      "Ljung-Box (L1) (Q):                   0.04   Jarque-Bera (JB):              1659.00\n",
      "Prob(Q):                              0.85   Prob(JB):                         0.00\n",
      "Heteroskedasticity (H):               0.71   Skew:                            -0.44\n",
      "Prob(H) (two-sided):                  0.00   Kurtosis:                         9.97\n",
      "===================================================================================\n",
      "\n",
      "Warnings:\n",
      "[1] Covariance matrix calculated using the outer product of gradients (complex-step).\n"
     ]
    }
   ],
   "source": [
    "# Using auto_arima to find the best ARIMA model\n",
    "model = auto_arima(df3['Petrol'], seasonal=True, m=12, trace=True, \n",
    "                   error_action='ignore', suppress_warnings=True, stepwise=True)\n",
    "\n",
    "print(model.summary())"
   ]
  },
  {
   "cell_type": "code",
   "execution_count": 46,
   "id": "vks4TdPaD6OS",
   "metadata": {
    "id": "vks4TdPaD6OS",
    "scrolled": true
   },
   "outputs": [
    {
     "data": {
      "text/plain": [
       "array([119.90144169, 119.72098882, 119.60408964, 119.52836118,\n",
       "       119.47930353, 119.44752349, 119.42693606, 119.41359931,\n",
       "       119.40495964, 119.39936277, 119.39573706, 119.39338829,\n",
       "       119.39186673, 119.39088105, 119.39024252, 119.38982887,\n",
       "       119.38956091, 119.38938732, 119.38927486, 119.38920201,\n",
       "       119.38915482, 119.38912425, 119.38910445, 119.38909162,\n",
       "       119.3890833 , 119.38907792, 119.38907443, 119.38907217,\n",
       "       119.38907071, 119.38906976])"
      ]
     },
     "execution_count": 46,
     "metadata": {},
     "output_type": "execute_result"
    }
   ],
   "source": [
    "model = ARIMA(df4.values, order=(1,1,0))\n",
    "model_fit1 = model.fit()\n",
    "output= model_fit1.forecast(steps=30)\n",
    "output"
   ]
  },
  {
   "cell_type": "code",
   "execution_count": 47,
   "id": "4c1658f9-699f-45d6-8355-c2a027c163ca",
   "metadata": {},
   "outputs": [
    {
     "data": {
      "text/plain": [
       "[<matplotlib.lines.Line2D at 0x2a02947e490>]"
      ]
     },
     "execution_count": 47,
     "metadata": {},
     "output_type": "execute_result"
    },
    {
     "data": {
      "image/png": "[encoded data removed]",
      "text/plain": [
       "<Figure size 640x480 with 1 Axes>"
      ]
     },
     "metadata": {},
     "output_type": "display_data"
    }
   ],
   "source": [
    "plt.plot(output)"
   ]
  },
  {
   "cell_type": "code",
   "execution_count": null,
   "id": "612aa2bf",
   "metadata": {},
   "outputs": [],
   "source": []
  }
 ],
 "metadata": {
  "colab": {
   "collapsed_sections": [],
   "name": "New petrol prediction.ipynb",
   "provenance": []
  },
  "kernelspec": {
   "display_name": "Python 3 (ipykernel)",
   "language": "python",
   "name": "python3"
  },
  "language_info": {
   "codemirror_mode": {
    "name": "ipython",
    "version": 3
   },
   "file_extension": ".py",
   "mimetype": "text/x-python",
   "name": "python",
   "nbconvert_exporter": "python",
   "pygments_lexer": "ipython3",
   "version": "3.12.3"
  }
 },
 "nbformat": 4,
 "nbformat_minor": 5
}
